{
 "cells": [
  {
   "cell_type": "markdown",
   "id": "ba23e7e2-d8bf-4f71-9632-c70f1bfc0a96",
   "metadata": {},
   "source": [
    "# <center style='color:#730071'>EV Market Segmentation: Indian Automobile Buyer's Behaviour</center>"
   ]
  },
  {
   "cell_type": "markdown",
   "id": "0072b1ee-508a-43cb-ba4b-5f5a891f9195",
   "metadata": {},
   "source": [
    "## <span style='color:#A2D00B'>Importing Libraries</span>"
   ]
  },
  {
   "cell_type": "code",
   "execution_count": 18,
   "id": "bf986057-6fec-4063-bd32-41569d581694",
   "metadata": {},
   "outputs": [],
   "source": [
    "import os\n",
    "import warnings\n",
    "import numpy as np\n",
    "import pandas as pd\n",
    "import seaborn as sns\n",
    "import plotly.express as px\n",
    "import matplotlib.pyplot as plt\n",
    "from sklearn.cluster import KMeans\n",
    "from sklearn.decomposition import PCA\n",
    "from sklearn.metrics import silhouette_score\n",
    "from IPython.display import Markdown, display\n",
    "from sklearn.preprocessing import MinMaxScaler, StandardScaler, LabelEncoder\n",
    "\n",
    "warnings.filterwarnings(\"ignore\")"
   ]
  },
  {
   "cell_type": "markdown",
   "id": "06c933cd-badc-4ac5-b116-ff91e67169a2",
   "metadata": {},
   "source": [
    "## <span style='color:#A2D00B'>Exploring Dataset</span>"
   ]
  },
  {
   "cell_type": "markdown",
   "id": "99986b9d-6b64-4713-a60f-995865555792",
   "metadata": {},
   "source": [
    "Source: https://www.kaggle.com/datasets/karivedha/indian-consumers-cars-purchasing-behaviour\n",
    "\n",
    "The dataset includes the following features:\n",
    "* Age: The age of the buyer.\n",
    "* Profession: The occupation of the buyer.\n",
    "* Marital Status: The marital status of the buyer.\n",
    "* Education: The highest level of education of the buyer.\n",
    "* No of Dependents: The number of dependents of the buyer.\n",
    "* Personal loan: Whether the buyer has a personal loan.\n",
    "* House Loan: Whether the buyer has a house loan.\n",
    "* Wife Working: Whether the wife of the buyer is working.\n",
    "* Salary: The salary of the buyer.\n",
    "* Wife Salary: The salary of the wife of the buyer.\n",
    "* Total Salary: The combined salary of the buyer and wife.\n",
    "* Make: The make of the automobile purchased.\n",
    "* Price: The price of the automobile purchased."
   ]
  },
  {
   "cell_type": "code",
   "execution_count": 19,
   "id": "606690d3-e623-422e-9c3e-56df9d6666e1",
   "metadata": {},
   "outputs": [
    {
     "data": {
      "text/html": [
       "<div>\n",
       "<style scoped>\n",
       "    .dataframe tbody tr th:only-of-type {\n",
       "        vertical-align: middle;\n",
       "    }\n",
       "\n",
       "    .dataframe tbody tr th {\n",
       "        vertical-align: top;\n",
       "    }\n",
       "\n",
       "    .dataframe thead th {\n",
       "        text-align: right;\n",
       "    }\n",
       "</style>\n",
       "<table border=\"1\" class=\"dataframe\">\n",
       "  <thead>\n",
       "    <tr style=\"text-align: right;\">\n",
       "      <th></th>\n",
       "      <th>Age</th>\n",
       "      <th>Profession</th>\n",
       "      <th>Marrital Status</th>\n",
       "      <th>Education</th>\n",
       "      <th>No of Dependents</th>\n",
       "      <th>Personal loan</th>\n",
       "      <th>House Loan</th>\n",
       "      <th>Wife Working</th>\n",
       "      <th>Salary</th>\n",
       "      <th>Wife Salary</th>\n",
       "      <th>Total Salary</th>\n",
       "      <th>Make</th>\n",
       "      <th>Price</th>\n",
       "    </tr>\n",
       "  </thead>\n",
       "  <tbody>\n",
       "    <tr>\n",
       "      <th>0</th>\n",
       "      <td>27</td>\n",
       "      <td>Salaried</td>\n",
       "      <td>Single</td>\n",
       "      <td>Post Graduate</td>\n",
       "      <td>0</td>\n",
       "      <td>Yes</td>\n",
       "      <td>No</td>\n",
       "      <td>No</td>\n",
       "      <td>800000</td>\n",
       "      <td>0</td>\n",
       "      <td>800000</td>\n",
       "      <td>i20</td>\n",
       "      <td>800000</td>\n",
       "    </tr>\n",
       "    <tr>\n",
       "      <th>1</th>\n",
       "      <td>35</td>\n",
       "      <td>Salaried</td>\n",
       "      <td>Married</td>\n",
       "      <td>Post Graduate</td>\n",
       "      <td>2</td>\n",
       "      <td>Yes</td>\n",
       "      <td>Yes</td>\n",
       "      <td>Yes</td>\n",
       "      <td>1400000</td>\n",
       "      <td>600000</td>\n",
       "      <td>2000000</td>\n",
       "      <td>Ciaz</td>\n",
       "      <td>1000000</td>\n",
       "    </tr>\n",
       "    <tr>\n",
       "      <th>2</th>\n",
       "      <td>45</td>\n",
       "      <td>Business</td>\n",
       "      <td>Married</td>\n",
       "      <td>Graduate</td>\n",
       "      <td>4</td>\n",
       "      <td>Yes</td>\n",
       "      <td>Yes</td>\n",
       "      <td>No</td>\n",
       "      <td>1800000</td>\n",
       "      <td>0</td>\n",
       "      <td>1800000</td>\n",
       "      <td>Duster</td>\n",
       "      <td>1200000</td>\n",
       "    </tr>\n",
       "    <tr>\n",
       "      <th>3</th>\n",
       "      <td>41</td>\n",
       "      <td>Business</td>\n",
       "      <td>Married</td>\n",
       "      <td>Post Graduate</td>\n",
       "      <td>3</td>\n",
       "      <td>No</td>\n",
       "      <td>No</td>\n",
       "      <td>Yes</td>\n",
       "      <td>1600000</td>\n",
       "      <td>600000</td>\n",
       "      <td>2200000</td>\n",
       "      <td>City</td>\n",
       "      <td>1200000</td>\n",
       "    </tr>\n",
       "    <tr>\n",
       "      <th>4</th>\n",
       "      <td>31</td>\n",
       "      <td>Salaried</td>\n",
       "      <td>Married</td>\n",
       "      <td>Post Graduate</td>\n",
       "      <td>2</td>\n",
       "      <td>Yes</td>\n",
       "      <td>No</td>\n",
       "      <td>Yes</td>\n",
       "      <td>1800000</td>\n",
       "      <td>800000</td>\n",
       "      <td>2600000</td>\n",
       "      <td>SUV</td>\n",
       "      <td>1600000</td>\n",
       "    </tr>\n",
       "  </tbody>\n",
       "</table>\n",
       "</div>"
      ],
      "text/plain": [
       "   Age Profession Marrital Status      Education  No of Dependents  \\\n",
       "0   27   Salaried          Single  Post Graduate                 0   \n",
       "1   35   Salaried         Married  Post Graduate                 2   \n",
       "2   45   Business         Married       Graduate                 4   \n",
       "3   41   Business         Married  Post Graduate                 3   \n",
       "4   31   Salaried         Married  Post Graduate                 2   \n",
       "\n",
       "  Personal loan House Loan Wife Working   Salary  Wife Salary  Total Salary  \\\n",
       "0           Yes         No           No   800000            0        800000   \n",
       "1           Yes        Yes          Yes  1400000       600000       2000000   \n",
       "2           Yes        Yes           No  1800000            0       1800000   \n",
       "3            No         No          Yes  1600000       600000       2200000   \n",
       "4           Yes         No          Yes  1800000       800000       2600000   \n",
       "\n",
       "     Make    Price  \n",
       "0     i20   800000  \n",
       "1    Ciaz  1000000  \n",
       "2  Duster  1200000  \n",
       "3    City  1200000  \n",
       "4     SUV  1600000  "
      ]
     },
     "execution_count": 19,
     "metadata": {},
     "output_type": "execute_result"
    }
   ],
   "source": [
    "# loading & displaying data\n",
    "df = pd.read_csv('Datasets/Indian_automobile_buying_behavour.csv')\n",
    "df.head()"
   ]
  },
  {
   "cell_type": "code",
   "execution_count": 20,
   "id": "5526fe30-b70d-44c1-a803-3cff3d40e3fe",
   "metadata": {},
   "outputs": [
    {
     "name": "stdout",
     "output_type": "stream",
     "text": [
      "Shape - (99, 13)\n"
     ]
    }
   ],
   "source": [
    "# Shape\n",
    "print(\"Shape -\",df.shape)"
   ]
  },
  {
   "cell_type": "code",
   "execution_count": 21,
   "id": "74793258-7da2-4fd8-bd1d-1569bce382dd",
   "metadata": {},
   "outputs": [
    {
     "name": "stdout",
     "output_type": "stream",
     "text": [
      "<class 'pandas.core.frame.DataFrame'>\n",
      "RangeIndex: 99 entries, 0 to 98\n",
      "Data columns (total 13 columns):\n",
      " #   Column            Non-Null Count  Dtype \n",
      "---  ------            --------------  ----- \n",
      " 0   Age               99 non-null     int64 \n",
      " 1   Profession        99 non-null     object\n",
      " 2   Marrital Status   99 non-null     object\n",
      " 3   Education         99 non-null     object\n",
      " 4   No of Dependents  99 non-null     int64 \n",
      " 5   Personal loan     99 non-null     object\n",
      " 6   House Loan        99 non-null     object\n",
      " 7   Wife Working      99 non-null     object\n",
      " 8   Salary            99 non-null     int64 \n",
      " 9   Wife Salary       99 non-null     int64 \n",
      " 10  Total Salary      99 non-null     int64 \n",
      " 11  Make              99 non-null     object\n",
      " 12  Price             99 non-null     int64 \n",
      "dtypes: int64(6), object(7)\n",
      "memory usage: 10.2+ KB\n"
     ]
    }
   ],
   "source": [
    "# Information\n",
    "df.info()"
   ]
  },
  {
   "cell_type": "code",
   "execution_count": 22,
   "id": "326e380e-4920-4d8b-ad1a-641b34f515f4",
   "metadata": {},
   "outputs": [
    {
     "data": {
      "text/html": [
       "<div>\n",
       "<style scoped>\n",
       "    .dataframe tbody tr th:only-of-type {\n",
       "        vertical-align: middle;\n",
       "    }\n",
       "\n",
       "    .dataframe tbody tr th {\n",
       "        vertical-align: top;\n",
       "    }\n",
       "\n",
       "    .dataframe thead th {\n",
       "        text-align: right;\n",
       "    }\n",
       "</style>\n",
       "<table border=\"1\" class=\"dataframe\">\n",
       "  <thead>\n",
       "    <tr style=\"text-align: right;\">\n",
       "      <th></th>\n",
       "      <th>Age</th>\n",
       "      <th>No of Dependents</th>\n",
       "      <th>Salary</th>\n",
       "      <th>Wife Salary</th>\n",
       "      <th>Total Salary</th>\n",
       "      <th>Price</th>\n",
       "    </tr>\n",
       "  </thead>\n",
       "  <tbody>\n",
       "    <tr>\n",
       "      <th>count</th>\n",
       "      <td>99.000000</td>\n",
       "      <td>99.000000</td>\n",
       "      <td>9.900000e+01</td>\n",
       "      <td>9.900000e+01</td>\n",
       "      <td>9.900000e+01</td>\n",
       "      <td>9.900000e+01</td>\n",
       "    </tr>\n",
       "    <tr>\n",
       "      <th>mean</th>\n",
       "      <td>36.313131</td>\n",
       "      <td>2.181818</td>\n",
       "      <td>1.736364e+06</td>\n",
       "      <td>5.343434e+05</td>\n",
       "      <td>2.270707e+06</td>\n",
       "      <td>1.194040e+06</td>\n",
       "    </tr>\n",
       "    <tr>\n",
       "      <th>std</th>\n",
       "      <td>6.246054</td>\n",
       "      <td>1.335265</td>\n",
       "      <td>6.736217e+05</td>\n",
       "      <td>6.054450e+05</td>\n",
       "      <td>1.050777e+06</td>\n",
       "      <td>4.376955e+05</td>\n",
       "    </tr>\n",
       "    <tr>\n",
       "      <th>min</th>\n",
       "      <td>26.000000</td>\n",
       "      <td>0.000000</td>\n",
       "      <td>2.000000e+05</td>\n",
       "      <td>0.000000e+00</td>\n",
       "      <td>2.000000e+05</td>\n",
       "      <td>1.100000e+05</td>\n",
       "    </tr>\n",
       "    <tr>\n",
       "      <th>25%</th>\n",
       "      <td>31.000000</td>\n",
       "      <td>2.000000</td>\n",
       "      <td>1.300000e+06</td>\n",
       "      <td>0.000000e+00</td>\n",
       "      <td>1.550000e+06</td>\n",
       "      <td>8.000000e+05</td>\n",
       "    </tr>\n",
       "    <tr>\n",
       "      <th>50%</th>\n",
       "      <td>36.000000</td>\n",
       "      <td>2.000000</td>\n",
       "      <td>1.600000e+06</td>\n",
       "      <td>5.000000e+05</td>\n",
       "      <td>2.100000e+06</td>\n",
       "      <td>1.200000e+06</td>\n",
       "    </tr>\n",
       "    <tr>\n",
       "      <th>75%</th>\n",
       "      <td>41.000000</td>\n",
       "      <td>3.000000</td>\n",
       "      <td>2.200000e+06</td>\n",
       "      <td>9.000000e+05</td>\n",
       "      <td>2.700000e+06</td>\n",
       "      <td>1.500000e+06</td>\n",
       "    </tr>\n",
       "    <tr>\n",
       "      <th>max</th>\n",
       "      <td>51.000000</td>\n",
       "      <td>4.000000</td>\n",
       "      <td>3.800000e+06</td>\n",
       "      <td>2.100000e+06</td>\n",
       "      <td>5.200000e+06</td>\n",
       "      <td>3.000000e+06</td>\n",
       "    </tr>\n",
       "  </tbody>\n",
       "</table>\n",
       "</div>"
      ],
      "text/plain": [
       "             Age  No of Dependents        Salary   Wife Salary  Total Salary  \\\n",
       "count  99.000000         99.000000  9.900000e+01  9.900000e+01  9.900000e+01   \n",
       "mean   36.313131          2.181818  1.736364e+06  5.343434e+05  2.270707e+06   \n",
       "std     6.246054          1.335265  6.736217e+05  6.054450e+05  1.050777e+06   \n",
       "min    26.000000          0.000000  2.000000e+05  0.000000e+00  2.000000e+05   \n",
       "25%    31.000000          2.000000  1.300000e+06  0.000000e+00  1.550000e+06   \n",
       "50%    36.000000          2.000000  1.600000e+06  5.000000e+05  2.100000e+06   \n",
       "75%    41.000000          3.000000  2.200000e+06  9.000000e+05  2.700000e+06   \n",
       "max    51.000000          4.000000  3.800000e+06  2.100000e+06  5.200000e+06   \n",
       "\n",
       "              Price  \n",
       "count  9.900000e+01  \n",
       "mean   1.194040e+06  \n",
       "std    4.376955e+05  \n",
       "min    1.100000e+05  \n",
       "25%    8.000000e+05  \n",
       "50%    1.200000e+06  \n",
       "75%    1.500000e+06  \n",
       "max    3.000000e+06  "
      ]
     },
     "execution_count": 22,
     "metadata": {},
     "output_type": "execute_result"
    }
   ],
   "source": [
    "# Description\n",
    "df.describe()"
   ]
  },
  {
   "cell_type": "markdown",
   "id": "a49850ee-93b4-4c13-8e3f-4ed7531ba054",
   "metadata": {},
   "source": [
    "## <span style='color:#A2D00B'>Data Cleaning</span>"
   ]
  },
  {
   "cell_type": "code",
   "execution_count": 23,
   "id": "349d52ef-4351-45f3-95a9-558f73549961",
   "metadata": {},
   "outputs": [
    {
     "data": {
      "text/plain": [
       "Age                 0\n",
       "Profession          0\n",
       "Marrital Status     0\n",
       "Education           0\n",
       "No of Dependents    0\n",
       "Personal loan       0\n",
       "House Loan          0\n",
       "Wife Working        0\n",
       "Salary              0\n",
       "Wife Salary         0\n",
       "Total Salary        0\n",
       "Make                0\n",
       "Price               0\n",
       "dtype: int64"
      ]
     },
     "execution_count": 23,
     "metadata": {},
     "output_type": "execute_result"
    }
   ],
   "source": [
    "# Null data\n",
    "df.isnull().sum()"
   ]
  },
  {
   "cell_type": "code",
   "execution_count": 24,
   "id": "df81a9a4-84f4-4616-9237-3f97cdd145aa",
   "metadata": {},
   "outputs": [
    {
     "data": {
      "text/plain": [
       "0"
      ]
     },
     "execution_count": 24,
     "metadata": {},
     "output_type": "execute_result"
    }
   ],
   "source": [
    "# Duplicate Data\n",
    "df.duplicated().sum()"
   ]
  },
  {
   "cell_type": "code",
   "execution_count": 25,
   "id": "9e61dc7d-8d9d-47b7-9ed7-63abbe1e20d7",
   "metadata": {},
   "outputs": [
    {
     "name": "stdout",
     "output_type": "stream",
     "text": [
      "Wife Working\n",
      "Yes    52\n",
      "No     46\n",
      "m       1\n",
      "Name: count, dtype: int64\n",
      "\n",
      "Here we can see, that there is unknown 'm' value, so we are converting it into 'Yes'\n"
     ]
    }
   ],
   "source": [
    "# Cleaning Wife Working Feature \n",
    "print(df['Wife Working'].value_counts())\n",
    "print(\"\\nHere we can see, that there is unknown 'm' value, so we are converting it into 'Yes'\")\n",
    "\n",
    "# modifying wife working feature\n",
    "df['Wife Working'] = df['Wife Working'].map({\"Yes\":\"Yes\", 'm':\"Yes\", \"No\":\"No\"})"
   ]
  },
  {
   "cell_type": "markdown",
   "id": "a8078adf-4039-4833-9f7d-8984028fff83",
   "metadata": {},
   "source": [
    "## <span style='color:#A2D00B'>Exploratory Data Analysis</span>"
   ]
  },
  {
   "cell_type": "code",
   "execution_count": 26,
   "id": "f596c833-9d73-42ad-a6a2-9a9e378af78f",
   "metadata": {},
   "outputs": [
    {
     "data": {
      "image/png": "[encoded data removed]",
      "text/plain": [
       "<Figure size 1500x800 with 6 Axes>"
      ]
     },
     "metadata": {},
     "output_type": "display_data"
    }
   ],
   "source": [
    "# Analyzing Numerical Features\n",
    "num_features = [\"Age\", \"Salary\", \"Wife Salary\", \"Total Salary\", \"Price\"]\n",
    "\n",
    "fig, axs = plt.subplots(2, 3, figsize=(15, 8))\n",
    "for i, ax in enumerate(axs.flatten()):\n",
    "    sns.histplot(data=df, x=num_features[i], ax=ax,  color='DarkGreen')\n",
    "    if i==4:\n",
    "        break\n",
    "\n",
    "plt.suptitle(\"Distribution of Numerical Features\", y=0.96, size='16');\n",
    "plt.tight_layout()\n",
    "plt.show()"
   ]
  },
  {
   "cell_type": "code",
   "execution_count": 27,
   "id": "4800a458-86bf-4c2e-97cf-05452d1afdc1",
   "metadata": {},
   "outputs": [
    {
     "data": {
      "text/markdown": [
       "\n",
       "`Key Findings`\n",
       "* Average ***Age*** of car buyer is around 36 and **92%** of customer falls between the age of  25 - 45. \n",
       "* ***Salaries*** are predominantly found between 1 million and 2.5 million, with **72%** of customers falling within this range.\n",
       "* **79%** of Customer buys, car with ***Price*** range of 7 Lakhs to 16 lakhs.\n",
       "* A majority of customers have working spouses which is around **52%.**\n",
       "* The household income for **73%** of customers falls between 1 and 3 million.\n"
      ],
      "text/plain": [
       "<IPython.core.display.Markdown object>"
      ]
     },
     "metadata": {},
     "output_type": "display_data"
    }
   ],
   "source": [
    "# percent of customer lies between a particular range\n",
    "salary_percent = round(len(df.where((df['Salary']>1000000) & (df['Salary']<=2500000)).dropna())/len(df)*100)\n",
    "age_percent = round(len(df.where((df['Age']>25) & (df['Age']<=45)).dropna())/len(df)*100)\n",
    "price_percent = round(len(df.where((df['Price']>700000) & (df['Price']<=1600000)).dropna())/len(df)*100)\n",
    "wife_salary_percent = round(len(df[df['Wife Salary']!=0])/len(df)*100)\n",
    "total_salary_percent = round(len(df.where((df['Total Salary']>1000000) & (df['Total Salary']<=3000000)).dropna())/len(df)*100) \n",
    "\n",
    "# Major Findings\n",
    "display(Markdown(f\"\"\"\n",
    "`Key Findings`\n",
    "* Average ***Age*** of car buyer is around 36 and **{age_percent}%** of customer falls between the age of  25 - 45. \n",
    "* ***Salaries*** are predominantly found between 1 million and 2.5 million, with **{salary_percent}%** of customers falling within this range.\n",
    "* **{price_percent}%** of Customer buys, car with ***Price*** range of 7 Lakhs to 16 lakhs.\n",
    "* A majority of customers have working spouses which is around **{wife_salary_percent}%.**\n",
    "* The household income for **{total_salary_percent}%** of customers falls between 1 and 3 million.\n",
    "\"\"\"))"
   ]
  },
  {
   "cell_type": "code",
   "execution_count": 28,
   "id": "9afc0d2f-0bbc-4d9a-a11c-ef9c5e8ddb8d",
   "metadata": {},
   "outputs": [
    {
     "data": {
      "text/plain": [
       "Text(0.5, 0.95, 'Distribution of Categorical Features')"
      ]
     },
     "execution_count": 28,
     "metadata": {},
     "output_type": "execute_result"
    },
    {
     "data": {
      "image/png": "[encoded data removed]",
      "text/plain": [
       "<Figure size 1500x1500 with 8 Axes>"
      ]
     },
     "metadata": {},
     "output_type": "display_data"
    }
   ],
   "source": [
    "# Analyzing Categorical Features\n",
    "cat_features = ['No of Dependents', 'Profession', 'Marrital Status', 'Education', \n",
    "                'Personal loan', 'House Loan', 'Wife Working', 'Make']\n",
    "\n",
    "fig, axs = plt.subplots(4, 2, figsize=(15, 15))\n",
    "for i, ax in enumerate(axs.flatten()):\n",
    "    sns.countplot(data=df, x=cat_features[i], ax=ax, palette='viridis')\n",
    "plt.suptitle(\"Distribution of Categorical Features\", y=0.95, size='16')"
   ]
  },
  {
   "cell_type": "markdown",
   "id": "6665aea4-311a-46d2-a289-e3fc71cc6597",
   "metadata": {},
   "source": [
    "`Key Findings`\n",
    "* Most of the customers have 2 to 3 dependents\n",
    "* Approximately 65% of the customer base is employed in salaried positions, while 35% are self-employed.\n",
    "* Approximately 15% of the customers are single, while the remaining 85% are married.\n",
    "* Approximately 55% customers hold a Post Graduate degree while 35% have a Graduate degree.\n",
    "* Approximately 68% of the customers do not have a personal loan.\n",
    "* Approximately 62% of the customers do not have a house loan.\n",
    "* A majority of customers have working spouses which is around 52%.\n",
    "* The most popular vehicle purchases among customers are SUVs and Balenos followed by Cretas."
   ]
  },
  {
   "cell_type": "markdown",
   "id": "669f7ada-148a-4de7-9706-44daae6adbc1",
   "metadata": {},
   "source": [
    "## <span style='color:#A2D00B'>Observations</span>"
   ]
  },
  {
   "cell_type": "markdown",
   "id": "3e2317a1-4a72-435d-b1b4-dc30e1c64c5c",
   "metadata": {},
   "source": [
    "### <span style=\"color:green\">Customer Demographics:</span>\n",
    "| **Field**             | **Description**                                  |\n",
    "|-----------------------|--------------------------------------------------|\n",
    "| ***Average Age***       | 36 years old                                     |\n",
    "| ***Age Distribution***  | 92% of customers are between 25 and 45 years old |\n",
    "| ***Marital Status***    | 85% married, 15% single                          |\n",
    "| ***Dependents***        | Most customers have 2 or 3 dependents            |\n",
    "| ***Employment***        | 65% salaried, 35% self-employed                  |\n",
    "| ***Education***         | 55% hold a postgraduate degree, 35% hold a graduate degree |\n",
    "\n",
    "\n",
    "### <span style=\"color:green\">Financial Information:</span>\n",
    "| **Field**             | **Description**                                                      |\n",
    "|-----------------------|----------------------------------------------------------------------|\n",
    "| ***Salary Range***      | 72% of customers earn between ₹1 - ₹2.5 million annually   |\n",
    "| ***Household Income***  | 73% of customers have income between ₹1 - ₹3 million |\n",
    "| ***Personal Loans***    | 68% of customers do not have a personal loan                         |\n",
    "| ***House Loans***       | 62% of customers do not have a house loan                            |\n",
    "| ***Working Spouses***   | 52% of customers have working spouses                                |\n",
    "\n",
    "\n",
    "### <span style=\"color:green\">Vehicle Purchases:</span>\n",
    "| **Field**             | **Description**                                                      |\n",
    "|-----------------------|----------------------------------------------------------------------|\n",
    "| ***Popular Models***    | SUVs, Baleno, Creta are the most popular vehicle choices             |\n",
    "| ***Price Range***       | 79% of customers purchase vehicles within range of ₹7 - ₹16 lakh |\n",
    "| ***Luxury Vehicles***   | Very few customers purchase luxury vehicles  |"
   ]
  },
  {
   "cell_type": "markdown",
   "id": "a3813913-61db-4c7c-9e66-aa1720ea5aff",
   "metadata": {},
   "source": [
    "## <span style='color:#A2D00B'>Data Preprocessing</span>"
   ]
  },
  {
   "cell_type": "code",
   "execution_count": 29,
   "id": "ad042253",
   "metadata": {},
   "outputs": [
    {
     "data": {
      "text/html": [
       "<div>\n",
       "<style scoped>\n",
       "    .dataframe tbody tr th:only-of-type {\n",
       "        vertical-align: middle;\n",
       "    }\n",
       "\n",
       "    .dataframe tbody tr th {\n",
       "        vertical-align: top;\n",
       "    }\n",
       "\n",
       "    .dataframe thead th {\n",
       "        text-align: right;\n",
       "    }\n",
       "</style>\n",
       "<table border=\"1\" class=\"dataframe\">\n",
       "  <thead>\n",
       "    <tr style=\"text-align: right;\">\n",
       "      <th></th>\n",
       "      <th>Age</th>\n",
       "      <th>Profession</th>\n",
       "      <th>Marrital Status</th>\n",
       "      <th>Education</th>\n",
       "      <th>No of Dependents</th>\n",
       "      <th>Personal loan</th>\n",
       "      <th>House Loan</th>\n",
       "      <th>Wife Working</th>\n",
       "      <th>Salary</th>\n",
       "      <th>Wife Salary</th>\n",
       "      <th>Total Salary</th>\n",
       "      <th>Make</th>\n",
       "      <th>Price</th>\n",
       "    </tr>\n",
       "  </thead>\n",
       "  <tbody>\n",
       "    <tr>\n",
       "      <th>0</th>\n",
       "      <td>27</td>\n",
       "      <td>1</td>\n",
       "      <td>1</td>\n",
       "      <td>1</td>\n",
       "      <td>0</td>\n",
       "      <td>1</td>\n",
       "      <td>0</td>\n",
       "      <td>0</td>\n",
       "      <td>800000</td>\n",
       "      <td>0</td>\n",
       "      <td>800000</td>\n",
       "      <td>8</td>\n",
       "      <td>800000</td>\n",
       "    </tr>\n",
       "    <tr>\n",
       "      <th>1</th>\n",
       "      <td>35</td>\n",
       "      <td>1</td>\n",
       "      <td>0</td>\n",
       "      <td>1</td>\n",
       "      <td>2</td>\n",
       "      <td>1</td>\n",
       "      <td>1</td>\n",
       "      <td>1</td>\n",
       "      <td>1400000</td>\n",
       "      <td>600000</td>\n",
       "      <td>2000000</td>\n",
       "      <td>1</td>\n",
       "      <td>1000000</td>\n",
       "    </tr>\n",
       "    <tr>\n",
       "      <th>2</th>\n",
       "      <td>45</td>\n",
       "      <td>0</td>\n",
       "      <td>0</td>\n",
       "      <td>0</td>\n",
       "      <td>4</td>\n",
       "      <td>1</td>\n",
       "      <td>1</td>\n",
       "      <td>0</td>\n",
       "      <td>1800000</td>\n",
       "      <td>0</td>\n",
       "      <td>1800000</td>\n",
       "      <td>4</td>\n",
       "      <td>1200000</td>\n",
       "    </tr>\n",
       "    <tr>\n",
       "      <th>3</th>\n",
       "      <td>41</td>\n",
       "      <td>0</td>\n",
       "      <td>0</td>\n",
       "      <td>1</td>\n",
       "      <td>3</td>\n",
       "      <td>0</td>\n",
       "      <td>0</td>\n",
       "      <td>1</td>\n",
       "      <td>1600000</td>\n",
       "      <td>600000</td>\n",
       "      <td>2200000</td>\n",
       "      <td>2</td>\n",
       "      <td>1200000</td>\n",
       "    </tr>\n",
       "    <tr>\n",
       "      <th>4</th>\n",
       "      <td>31</td>\n",
       "      <td>1</td>\n",
       "      <td>0</td>\n",
       "      <td>1</td>\n",
       "      <td>2</td>\n",
       "      <td>1</td>\n",
       "      <td>0</td>\n",
       "      <td>1</td>\n",
       "      <td>1800000</td>\n",
       "      <td>800000</td>\n",
       "      <td>2600000</td>\n",
       "      <td>6</td>\n",
       "      <td>1600000</td>\n",
       "    </tr>\n",
       "  </tbody>\n",
       "</table>\n",
       "</div>"
      ],
      "text/plain": [
       "   Age  Profession  Marrital Status  Education  No of Dependents  \\\n",
       "0   27           1                1          1                 0   \n",
       "1   35           1                0          1                 2   \n",
       "2   45           0                0          0                 4   \n",
       "3   41           0                0          1                 3   \n",
       "4   31           1                0          1                 2   \n",
       "\n",
       "   Personal loan  House Loan  Wife Working   Salary  Wife Salary  \\\n",
       "0              1           0             0   800000            0   \n",
       "1              1           1             1  1400000       600000   \n",
       "2              1           1             0  1800000            0   \n",
       "3              0           0             1  1600000       600000   \n",
       "4              1           0             1  1800000       800000   \n",
       "\n",
       "   Total Salary  Make    Price  \n",
       "0        800000     8   800000  \n",
       "1       2000000     1  1000000  \n",
       "2       1800000     4  1200000  \n",
       "3       2200000     2  1200000  \n",
       "4       2600000     6  1600000  "
      ]
     },
     "execution_count": 29,
     "metadata": {},
     "output_type": "execute_result"
    }
   ],
   "source": [
    "# Initialize the LabelEncoder\n",
    "encoder = LabelEncoder()\n",
    "\n",
    "# Apply LabelEncoder to each categorical column in the DataFrame\n",
    "df_encoded = df.copy()  # Make a copy of the original DataFrame to preserve it\n",
    "for column in df_encoded.select_dtypes(include=['object', 'category']).columns:\n",
    "    df_encoded[column] = encoder.fit_transform(df_encoded[column])\n",
    "\n",
    "# Now df_encoded contains the encoded values\n",
    "df_encoded.head()"
   ]
  },
  {
   "cell_type": "code",
   "execution_count": 30,
   "id": "04f7306b-0705-474a-b3d7-8752f3b1dbfd",
   "metadata": {},
   "outputs": [],
   "source": [
    "# feature scaling\n",
    "df_scaled = df_encoded.copy()\n",
    "scaler = StandardScaler()\n",
    "scaling_feature = [\"Age\", \"Salary\", \"Wife Salary\", \"Total Salary\", \"Price\"]\n",
    "df_scaled[scaling_feature]  = scaler.fit_transform(df_scaled[scaling_feature])"
   ]
  },
  {
   "cell_type": "markdown",
   "id": "18ba800e-bcac-4529-8c97-184df987056f",
   "metadata": {},
   "source": [
    "## <span style='color:#A2D00B'>Market Segmentation</span>"
   ]
  },
  {
   "cell_type": "markdown",
   "id": "d9fda553-7fa9-4e26-ae43-eb343c85b341",
   "metadata": {},
   "source": [
    "### <span style='color:#A2D00B'>K Means Clustering</span>"
   ]
  },
  {
   "cell_type": "code",
   "execution_count": 31,
   "id": "551ece27-3c59-40b6-9a49-6a0195b4465f",
   "metadata": {},
   "outputs": [],
   "source": [
    "wcss = []\n",
    "ss = []\n",
    "\n",
    "# Perform PCA\n",
    "pca = PCA(2)\n",
    "pca_encoded = pca.fit_transform(df_scaled)\n",
    "\n",
    "for i in range(2,12):\n",
    "    kmean = KMeans(n_clusters=i, n_init='auto', random_state=42)\n",
    "    kmean.fit(df_scaled)\n",
    "    wcss.append(kmean.inertia_)\n",
    "    \n",
    "    y = kmean.predict(df_scaled)\n",
    "    s = silhouette_score(pca_encoded, y, random_state=0)\n",
    "    ss.append(round(s, 5))"
   ]
  },
  {
   "cell_type": "code",
   "execution_count": 32,
   "id": "5282d0da-49fc-4676-9cd3-56816f769f7b",
   "metadata": {},
   "outputs": [
    {
     "data": {
      "image/png": "[encoded data removed]",
      "text/plain": [
       "<Figure size 1500x400 with 2 Axes>"
      ]
     },
     "metadata": {},
     "output_type": "display_data"
    }
   ],
   "source": [
    "# Identifying Optimal Value of K for KMeans Clustering\n",
    "fig, axs = plt.subplots(1,2, figsize=(15, 4))\n",
    "sns.pointplot(x=list(range(2, 12)), y=wcss, color='Green', ax = axs[0])\n",
    "axs[0].set_title(\"Elbow Plot\", size=15)\n",
    "axs[0].set_xlabel(\"Number of Clusters\", size=12)\n",
    "\n",
    "sns.pointplot(x=list(range(2, 12)), y=ss, ax=axs[1], color='Teal')\n",
    "axs[1].set_title(\"Silhouette Plot\", size=15)\n",
    "axs[1].set_xlabel(\"Number of Clusters\", size=12)\n",
    "plt.show()"
   ]
  },
  {
   "cell_type": "markdown",
   "id": "d8255572-6058-4c62-a354-e9759640a999",
   "metadata": {},
   "source": [
    "`Note` - **Both the elbow and silhouette methods indicate that three clusters are optimal for the K-means algorithm.**"
   ]
  },
  {
   "cell_type": "markdown",
   "id": "d112f2b7-8404-4baa-a128-939e6de8c71e",
   "metadata": {},
   "source": [
    "### <span style='color:#A2D00B'>Plotting Clusters Using PCA</span>"
   ]
  },
  {
   "cell_type": "code",
   "execution_count": 33,
   "id": "dcce0ef3-1c92-4f7c-b434-923f3254213b",
   "metadata": {},
   "outputs": [
    {
     "data": {
      "image/png": "[encoded data removed]",
      "text/plain": [
       "<Figure size 1000x600 with 1 Axes>"
      ]
     },
     "metadata": {},
     "output_type": "display_data"
    },
    {
     "data": {
      "application/vnd.plotly.v1+json": {
       "config": {
        "plotlyServerURL": "https://plot.ly"
       },
       "data": [
        {
         "hovertemplate": "PCA Component 1=%{x}<br>PCA Component 2=%{y}<br>PCA Component 3=%{z}<br>color=%{marker.color}<extra></extra>",
         "legendgroup": "",
         "marker": {
          "color": [
           2,
           1,
           0,
           1,
           2,
           1,
           1,
           1,
           2,
           2,
           0,
           1,
           2,
           2,
           1,
           0,
           2,
           3,
           3,
           3,
           1,
           2,
           0,
           1,
           1,
           0,
           1,
           2,
           2,
           0,
           1,
           0,
           0,
           0,
           1,
           0,
           3,
           3,
           2,
           3,
           2,
           3,
           2,
           0,
           2,
           0,
           1,
           0,
           2,
           0,
           0,
           0,
           0,
           0,
           0,
           0,
           1,
           3,
           3,
           3,
           3,
           3,
           2,
           1,
           1,
           1,
           0,
           1,
           0,
           2,
           0,
           0,
           1,
           2,
           3,
           0,
           2,
           0,
           0,
           0,
           1,
           0,
           1,
           0,
           2,
           1,
           3,
           1,
           0,
           1,
           2,
           0,
           1,
           3,
           2,
           0,
           1,
           0,
           1
          ],
          "coloraxis": "coloraxis",
          "symbol": "circle"
         },
         "mode": "markers",
         "name": "",
         "scene": "scene",
         "showlegend": false,
         "type": "scatter3d",
         "x": [
          3.403612306425467,
          -2.5681683593274713,
          0.3295758956386495,
          -1.3710125359813834,
          2.577910207241366,
          -4.133866959779175,
          -1.586057036680515,
          -3.8436904450695284,
          3.171174106048433,
          4.006235858826618,
          2.4964040901919606,
          -3.8270179240098696,
          2.6757628635751085,
          3.685711310781139,
          -3.9037991900053854,
          3.0651493072024723,
          3.4205695565678,
          -4.232814403534615,
          -2.041157204224151,
          -3.96368987049113,
          -1.2931061089787776,
          4.044510117882891,
          2.6002904822769497,
          -3.7438489109355175,
          -2.526097220760133,
          2.7373393433292454,
          -3.8822870339428395,
          3.854757722621199,
          3.4767872886992968,
          2.6907559208067484,
          -3.9225404439238476,
          0.5231668620406056,
          0.015197237968018862,
          -0.30076754607568784,
          -2.488149795111848,
          3.1350279088434867,
          -1.7643295037502051,
          -0.5237240996966153,
          2.0169152226159865,
          -2.5473416145534507,
          3.9250939964848857,
          -2.88464081227207,
          2.4630866652956738,
          0.5621348999667087,
          3.805985522160295,
          0.11494549224484336,
          -3.147629608375508,
          0.6331303935753295,
          3.932096881225493,
          -0.09057379798264802,
          0.5194131830779608,
          3.433322310963979,
          2.716346595697379,
          0.32408132903397824,
          2.958464568740529,
          -0.13117457326477797,
          -2.3338922102983863,
          -4.129648467940089,
          -3.0362682388792495,
          -4.236818360448959,
          -1.9454565525668404,
          -0.8389553540660769,
          2.166431533820147,
          -3.784427457002511,
          -2.5293517885194725,
          -3.7518290356878006,
          0.10086204140377503,
          -1.6027664945484377,
          0.254465434732254,
          3.0796752956605715,
          0.7835763080601514,
          2.890971400928835,
          -3.9195249322261656,
          2.569110855502122,
          -1.591106291700252,
          0.12282277327590886,
          3.9194547369806654,
          2.7702782589877764,
          -0.07477656539164262,
          3.429867513881723,
          -3.535830889379965,
          3.646539780061173,
          -2.385679922456972,
          0.6934929982276303,
          4.249907094692248,
          -3.6862689845296095,
          -4.165703025566527,
          -1.457386514655706,
          0.2500553683406216,
          -3.7277282776914324,
          3.7535457380891653,
          3.482046386096676,
          -1.3503403884282208,
          -4.19573107823824,
          2.2952605176717724,
          3.6721067792414557,
          -2.435768466366801,
          0.3946766157051508,
          -2.4073585840938283
         ],
         "y": [
          -4.63404674686283,
          0.18388111557701406,
          0.8336870639636743,
          1.0316449372249417,
          -0.4541036971052409,
          -0.9588447401537009,
          0.39541014087652643,
          0.2511559417516748,
          -0.6302141467709301,
          -1.5559886180138747,
          0.10882477450746991,
          0.550282706496551,
          -3.6951786308454633,
          -2.9848003716708544,
          -0.33809282844030636,
          4.7306745905123115,
          -4.6956978676497965,
          -2.526313405171321,
          -1.6498355602740287,
          -1.7426618450928797,
          1.1291738402760074,
          -1.5231281730871933,
          0.0701329529807868,
          0.423844406979824,
          0.6218025941327651,
          0.09190274251409561,
          0.3748563594354502,
          -1.8185355097420797,
          -0.17285377604465174,
          -0.009401571311510416,
          0.05789893610134924,
          0.4901659932249955,
          2.2670504112591976,
          1.0818082614396383,
          1.6789857547184261,
          1.8076914349473743,
          -1.7213754117754674,
          -1.1728835013318943,
          -2.7479813549297902,
          -0.7742098999755002,
          -1.978710950153679,
          -1.5370189738981612,
          -1.460069242505525,
          0.19598355090699965,
          -2.297027902403227,
          1.9089612364130872,
          -0.7344037297014999,
          0.19560233994754767,
          -2.116668960624068,
          1.5284029659916645,
          1.342500535240641,
          2.8456810629466602,
          1.4234077597142494,
          2.6795051727798804,
          3.5160176706288273,
          1.9513856571190114,
          1.6252746586910563,
          -2.2915887402045625,
          -2.210986621017837,
          -2.4413993010981443,
          -2.0875524258746596,
          -1.8959581398995415,
          -2.1569679677942832,
          0.16492267062525642,
          0.06627505086247626,
          0.4325778247135861,
          1.778215620101649,
          0.1654797305470969,
          2.2350491984829235,
          -1.098271539635507,
          0.439575065633266,
          0.5816474858891878,
          -0.4199599966705406,
          -1.1718523166293526,
          -0.843865108874918,
          1.572861671761052,
          -1.890459463765581,
          0.6224498267925958,
          2.1076082499018356,
          2.393299648310937,
          1.5681932178360074,
          2.8941603267381955,
          1.6246411988018004,
          0.9846824545170638,
          -0.2101070962758556,
          0.8935250836970331,
          -2.2047725936676863,
          0.05486640473000473,
          1.9763139369547909,
          0.4395724388624518,
          -2.490910185976899,
          2.599963299999369,
          0.9816090025340487,
          -2.492829007942988,
          -1.9599662221937095,
          3.7709460878201457,
          1.4980691693747477,
          3.0151661673075156,
          1.5422257409628093
         ],
         "z": [
          0.11652956971090114,
          0.2257704460976018,
          -2.3871359730383785,
          -0.42463662955788645,
          0.5607911836603778,
          -1.2694615233112136,
          -0.9714037791967786,
          -1.7950304262709638,
          -2.262164988521845,
          -1.6354062189404899,
          -1.2011480467718945,
          -1.882233766201932,
          0.5425277118108,
          -1.3029066492154955,
          -0.9418362050469121,
          1.2407475522975597,
          0.2630579562622093,
          1.3050547835604205,
          -0.10493032721054153,
          1.6822274892582554,
          -0.15345310530085984,
          -1.5686594698791154,
          -0.2624299113088437,
          -1.4727128967102854,
          -0.3203086173981317,
          0.8198678099061628,
          -2.0587632973398438,
          -2.1106595095879084,
          -0.8645380846518469,
          0.6231540640250396,
          -1.3919637911224247,
          -0.5489123579890586,
          -0.5792938210563349,
          -0.24055290002509858,
          -1.7742732335117801,
          0.27755092774701734,
          1.971942412471184,
          2.352457538723787,
          1.2348533367106427,
          2.3196109176992983,
          -1.74221786202541,
          1.397864689227573,
          2.063881760882974,
          -0.17730818042404098,
          -1.4748547261972076,
          0.73238213811753,
          -2.1569021056238573,
          0.5258970352650751,
          -1.0342894334662431,
          0.25169601998117314,
          -2.1010970484182967,
          0.5451519464125577,
          -1.6638209952055316,
          0.7692534120349295,
          2.93692477959161,
          -0.5778726788981565,
          -0.5703221220894297,
          1.3986698629338041,
          1.5445403945901337,
          1.1735897070131112,
          1.6048965621494595,
          1.6869257824236676,
          1.3511668153311736,
          -1.0099321412381324,
          0.6207034145036708,
          -1.1429281394852377,
          1.1478044484513616,
          -0.09181880049507521,
          1.3255250322191394,
          -1.637047413157111,
          0.916291722862243,
          0.853206526583805,
          -0.386290857534344,
          2.1622495150667476,
          1.9232715504461555,
          1.4984318804849066,
          -1.4882577504456223,
          -0.14672889216176707,
          -0.4227527235775168,
          1.3583464047150895,
          -1.2421743788355146,
          1.8434248813380063,
          -0.9401902722868087,
          -0.1206392207324459,
          -2.0318243321578504,
          -1.3917834114215095,
          1.150493094310467,
          0.7132984184122543,
          1.66809080069515,
          -1.1275642125380743,
          -1.3417252934839066,
          0.9006834959136599,
          0.1821929447919409,
          1.322721439263299,
          1.6968339795073557,
          0.5829449063923684,
          -0.5699138382951435,
          1.226119377110574,
          -0.4965460796041384
         ]
        },
        {
         "marker": {
          "color": "red",
          "size": 5,
          "symbol": "x"
         },
         "mode": "markers",
         "name": "Centroids",
         "type": "scatter3d",
         "x": [
          1.4926239705243292,
          -2.8980509113845407,
          3.2951634272212895,
          -2.806492325195232
         ],
         "y": [
          1.64799775429227,
          0.5466024153872466,
          -1.9883427609400204,
          -1.8395500357399728
         ],
         "z": [
          0.34158242389816373,
          -0.8514456573789582,
          -0.47739363194485657,
          1.5152890597906703
         ]
        }
       ],
       "layout": {
        "coloraxis": {
         "colorbar": {
          "title": {
           "text": "color"
          }
         },
         "colorscale": [
          [
           0,
           "#0d0887"
          ],
          [
           0.1111111111111111,
           "#46039f"
          ],
          [
           0.2222222222222222,
           "#7201a8"
          ],
          [
           0.3333333333333333,
           "#9c179e"
          ],
          [
           0.4444444444444444,
           "#bd3786"
          ],
          [
           0.5555555555555556,
           "#d8576b"
          ],
          [
           0.6666666666666666,
           "#ed7953"
          ],
          [
           0.7777777777777778,
           "#fb9f3a"
          ],
          [
           0.8888888888888888,
           "#fdca26"
          ],
          [
           1,
           "#f0f921"
          ]
         ]
        },
        "legend": {
         "tracegroupgap": 0
        },
        "scene": {
         "domain": {
          "x": [
           0,
           1
          ],
          "y": [
           0,
           1
          ]
         },
         "xaxis": {
          "title": {
           "text": "PCA Component 1"
          }
         },
         "yaxis": {
          "title": {
           "text": "PCA Component 2"
          }
         },
         "zaxis": {
          "title": {
           "text": "PCA Component 3"
          }
         }
        },
        "template": {
         "data": {
          "bar": [
           {
            "error_x": {
             "color": "#2a3f5f"
            },
            "error_y": {
             "color": "#2a3f5f"
            },
            "marker": {
             "line": {
              "color": "#E5ECF6",
              "width": 0.5
             },
             "pattern": {
              "fillmode": "overlay",
              "size": 10,
              "solidity": 0.2
             }
            },
            "type": "bar"
           }
          ],
          "barpolar": [
           {
            "marker": {
             "line": {
              "color": "#E5ECF6",
              "width": 0.5
             },
             "pattern": {
              "fillmode": "overlay",
              "size": 10,
              "solidity": 0.2
             }
            },
            "type": "barpolar"
           }
          ],
          "carpet": [
           {
            "aaxis": {
             "endlinecolor": "#2a3f5f",
             "gridcolor": "white",
             "linecolor": "white",
             "minorgridcolor": "white",
             "startlinecolor": "#2a3f5f"
            },
            "baxis": {
             "endlinecolor": "#2a3f5f",
             "gridcolor": "white",
             "linecolor": "white",
             "minorgridcolor": "white",
             "startlinecolor": "#2a3f5f"
            },
            "type": "carpet"
           }
          ],
          "choropleth": [
           {
            "colorbar": {
             "outlinewidth": 0,
             "ticks": ""
            },
            "type": "choropleth"
           }
          ],
          "contour": [
           {
            "colorbar": {
             "outlinewidth": 0,
             "ticks": ""
            },
            "colorscale": [
             [
              0,
              "#0d0887"
             ],
             [
              0.1111111111111111,
              "#46039f"
             ],
             [
              0.2222222222222222,
              "#7201a8"
             ],
             [
              0.3333333333333333,
              "#9c179e"
             ],
             [
              0.4444444444444444,
              "#bd3786"
             ],
             [
              0.5555555555555556,
              "#d8576b"
             ],
             [
              0.6666666666666666,
              "#ed7953"
             ],
             [
              0.7777777777777778,
              "#fb9f3a"
             ],
             [
              0.8888888888888888,
              "#fdca26"
             ],
             [
              1,
              "#f0f921"
             ]
            ],
            "type": "contour"
           }
          ],
          "contourcarpet": [
           {
            "colorbar": {
             "outlinewidth": 0,
             "ticks": ""
            },
            "type": "contourcarpet"
           }
          ],
          "heatmap": [
           {
            "colorbar": {
             "outlinewidth": 0,
             "ticks": ""
            },
            "colorscale": [
             [
              0,
              "#0d0887"
             ],
             [
              0.1111111111111111,
              "#46039f"
             ],
             [
              0.2222222222222222,
              "#7201a8"
             ],
             [
              0.3333333333333333,
              "#9c179e"
             ],
             [
              0.4444444444444444,
              "#bd3786"
             ],
             [
              0.5555555555555556,
              "#d8576b"
             ],
             [
              0.6666666666666666,
              "#ed7953"
             ],
             [
              0.7777777777777778,
              "#fb9f3a"
             ],
             [
              0.8888888888888888,
              "#fdca26"
             ],
             [
              1,
              "#f0f921"
             ]
            ],
            "type": "heatmap"
           }
          ],
          "heatmapgl": [
           {
            "colorbar": {
             "outlinewidth": 0,
             "ticks": ""
            },
            "colorscale": [
             [
              0,
              "#0d0887"
             ],
             [
              0.1111111111111111,
              "#46039f"
             ],
             [
              0.2222222222222222,
              "#7201a8"
             ],
             [
              0.3333333333333333,
              "#9c179e"
             ],
             [
              0.4444444444444444,
              "#bd3786"
             ],
             [
              0.5555555555555556,
              "#d8576b"
             ],
             [
              0.6666666666666666,
              "#ed7953"
             ],
             [
              0.7777777777777778,
              "#fb9f3a"
             ],
             [
              0.8888888888888888,
              "#fdca26"
             ],
             [
              1,
              "#f0f921"
             ]
            ],
            "type": "heatmapgl"
           }
          ],
          "histogram": [
           {
            "marker": {
             "pattern": {
              "fillmode": "overlay",
              "size": 10,
              "solidity": 0.2
             }
            },
            "type": "histogram"
           }
          ],
          "histogram2d": [
           {
            "colorbar": {
             "outlinewidth": 0,
             "ticks": ""
            },
            "colorscale": [
             [
              0,
              "#0d0887"
             ],
             [
              0.1111111111111111,
              "#46039f"
             ],
             [
              0.2222222222222222,
              "#7201a8"
             ],
             [
              0.3333333333333333,
              "#9c179e"
             ],
             [
              0.4444444444444444,
              "#bd3786"
             ],
             [
              0.5555555555555556,
              "#d8576b"
             ],
             [
              0.6666666666666666,
              "#ed7953"
             ],
             [
              0.7777777777777778,
              "#fb9f3a"
             ],
             [
              0.8888888888888888,
              "#fdca26"
             ],
             [
              1,
              "#f0f921"
             ]
            ],
            "type": "histogram2d"
           }
          ],
          "histogram2dcontour": [
           {
            "colorbar": {
             "outlinewidth": 0,
             "ticks": ""
            },
            "colorscale": [
             [
              0,
              "#0d0887"
             ],
             [
              0.1111111111111111,
              "#46039f"
             ],
             [
              0.2222222222222222,
              "#7201a8"
             ],
             [
              0.3333333333333333,
              "#9c179e"
             ],
             [
              0.4444444444444444,
              "#bd3786"
             ],
             [
              0.5555555555555556,
              "#d8576b"
             ],
             [
              0.6666666666666666,
              "#ed7953"
             ],
             [
              0.7777777777777778,
              "#fb9f3a"
             ],
             [
              0.8888888888888888,
              "#fdca26"
             ],
             [
              1,
              "#f0f921"
             ]
            ],
            "type": "histogram2dcontour"
           }
          ],
          "mesh3d": [
           {
            "colorbar": {
             "outlinewidth": 0,
             "ticks": ""
            },
            "type": "mesh3d"
           }
          ],
          "parcoords": [
           {
            "line": {
             "colorbar": {
              "outlinewidth": 0,
              "ticks": ""
             }
            },
            "type": "parcoords"
           }
          ],
          "pie": [
           {
            "automargin": true,
            "type": "pie"
           }
          ],
          "scatter": [
           {
            "fillpattern": {
             "fillmode": "overlay",
             "size": 10,
             "solidity": 0.2
            },
            "type": "scatter"
           }
          ],
          "scatter3d": [
           {
            "line": {
             "colorbar": {
              "outlinewidth": 0,
              "ticks": ""
             }
            },
            "marker": {
             "colorbar": {
              "outlinewidth": 0,
              "ticks": ""
             }
            },
            "type": "scatter3d"
           }
          ],
          "scattercarpet": [
           {
            "marker": {
             "colorbar": {
              "outlinewidth": 0,
              "ticks": ""
             }
            },
            "type": "scattercarpet"
           }
          ],
          "scattergeo": [
           {
            "marker": {
             "colorbar": {
              "outlinewidth": 0,
              "ticks": ""
             }
            },
            "type": "scattergeo"
           }
          ],
          "scattergl": [
           {
            "marker": {
             "colorbar": {
              "outlinewidth": 0,
              "ticks": ""
             }
            },
            "type": "scattergl"
           }
          ],
          "scattermapbox": [
           {
            "marker": {
             "colorbar": {
              "outlinewidth": 0,
              "ticks": ""
             }
            },
            "type": "scattermapbox"
           }
          ],
          "scatterpolar": [
           {
            "marker": {
             "colorbar": {
              "outlinewidth": 0,
              "ticks": ""
             }
            },
            "type": "scatterpolar"
           }
          ],
          "scatterpolargl": [
           {
            "marker": {
             "colorbar": {
              "outlinewidth": 0,
              "ticks": ""
             }
            },
            "type": "scatterpolargl"
           }
          ],
          "scatterternary": [
           {
            "marker": {
             "colorbar": {
              "outlinewidth": 0,
              "ticks": ""
             }
            },
            "type": "scatterternary"
           }
          ],
          "surface": [
           {
            "colorbar": {
             "outlinewidth": 0,
             "ticks": ""
            },
            "colorscale": [
             [
              0,
              "#0d0887"
             ],
             [
              0.1111111111111111,
              "#46039f"
             ],
             [
              0.2222222222222222,
              "#7201a8"
             ],
             [
              0.3333333333333333,
              "#9c179e"
             ],
             [
              0.4444444444444444,
              "#bd3786"
             ],
             [
              0.5555555555555556,
              "#d8576b"
             ],
             [
              0.6666666666666666,
              "#ed7953"
             ],
             [
              0.7777777777777778,
              "#fb9f3a"
             ],
             [
              0.8888888888888888,
              "#fdca26"
             ],
             [
              1,
              "#f0f921"
             ]
            ],
            "type": "surface"
           }
          ],
          "table": [
           {
            "cells": {
             "fill": {
              "color": "#EBF0F8"
             },
             "line": {
              "color": "white"
             }
            },
            "header": {
             "fill": {
              "color": "#C8D4E3"
             },
             "line": {
              "color": "white"
             }
            },
            "type": "table"
           }
          ]
         },
         "layout": {
          "annotationdefaults": {
           "arrowcolor": "#2a3f5f",
           "arrowhead": 0,
           "arrowwidth": 1
          },
          "autotypenumbers": "strict",
          "coloraxis": {
           "colorbar": {
            "outlinewidth": 0,
            "ticks": ""
           }
          },
          "colorscale": {
           "diverging": [
            [
             0,
             "#8e0152"
            ],
            [
             0.1,
             "#c51b7d"
            ],
            [
             0.2,
             "#de77ae"
            ],
            [
             0.3,
             "#f1b6da"
            ],
            [
             0.4,
             "#fde0ef"
            ],
            [
             0.5,
             "#f7f7f7"
            ],
            [
             0.6,
             "#e6f5d0"
            ],
            [
             0.7,
             "#b8e186"
            ],
            [
             0.8,
             "#7fbc41"
            ],
            [
             0.9,
             "#4d9221"
            ],
            [
             1,
             "#276419"
            ]
           ],
           "sequential": [
            [
             0,
             "#0d0887"
            ],
            [
             0.1111111111111111,
             "#46039f"
            ],
            [
             0.2222222222222222,
             "#7201a8"
            ],
            [
             0.3333333333333333,
             "#9c179e"
            ],
            [
             0.4444444444444444,
             "#bd3786"
            ],
            [
             0.5555555555555556,
             "#d8576b"
            ],
            [
             0.6666666666666666,
             "#ed7953"
            ],
            [
             0.7777777777777778,
             "#fb9f3a"
            ],
            [
             0.8888888888888888,
             "#fdca26"
            ],
            [
             1,
             "#f0f921"
            ]
           ],
           "sequentialminus": [
            [
             0,
             "#0d0887"
            ],
            [
             0.1111111111111111,
             "#46039f"
            ],
            [
             0.2222222222222222,
             "#7201a8"
            ],
            [
             0.3333333333333333,
             "#9c179e"
            ],
            [
             0.4444444444444444,
             "#bd3786"
            ],
            [
             0.5555555555555556,
             "#d8576b"
            ],
            [
             0.6666666666666666,
             "#ed7953"
            ],
            [
             0.7777777777777778,
             "#fb9f3a"
            ],
            [
             0.8888888888888888,
             "#fdca26"
            ],
            [
             1,
             "#f0f921"
            ]
           ]
          },
          "colorway": [
           "#636efa",
           "#EF553B",
           "#00cc96",
           "#ab63fa",
           "#FFA15A",
           "#19d3f3",
           "#FF6692",
           "#B6E880",
           "#FF97FF",
           "#FECB52"
          ],
          "font": {
           "color": "#2a3f5f"
          },
          "geo": {
           "bgcolor": "white",
           "lakecolor": "white",
           "landcolor": "#E5ECF6",
           "showlakes": true,
           "showland": true,
           "subunitcolor": "white"
          },
          "hoverlabel": {
           "align": "left"
          },
          "hovermode": "closest",
          "mapbox": {
           "style": "light"
          },
          "paper_bgcolor": "white",
          "plot_bgcolor": "#E5ECF6",
          "polar": {
           "angularaxis": {
            "gridcolor": "white",
            "linecolor": "white",
            "ticks": ""
           },
           "bgcolor": "#E5ECF6",
           "radialaxis": {
            "gridcolor": "white",
            "linecolor": "white",
            "ticks": ""
           }
          },
          "scene": {
           "xaxis": {
            "backgroundcolor": "#E5ECF6",
            "gridcolor": "white",
            "gridwidth": 2,
            "linecolor": "white",
            "showbackground": true,
            "ticks": "",
            "zerolinecolor": "white"
           },
           "yaxis": {
            "backgroundcolor": "#E5ECF6",
            "gridcolor": "white",
            "gridwidth": 2,
            "linecolor": "white",
            "showbackground": true,
            "ticks": "",
            "zerolinecolor": "white"
           },
           "zaxis": {
            "backgroundcolor": "#E5ECF6",
            "gridcolor": "white",
            "gridwidth": 2,
            "linecolor": "white",
            "showbackground": true,
            "ticks": "",
            "zerolinecolor": "white"
           }
          },
          "shapedefaults": {
           "line": {
            "color": "#2a3f5f"
           }
          },
          "ternary": {
           "aaxis": {
            "gridcolor": "white",
            "linecolor": "white",
            "ticks": ""
           },
           "baxis": {
            "gridcolor": "white",
            "linecolor": "white",
            "ticks": ""
           },
           "bgcolor": "#E5ECF6",
           "caxis": {
            "gridcolor": "white",
            "linecolor": "white",
            "ticks": ""
           }
          },
          "title": {
           "x": 0.05
          },
          "xaxis": {
           "automargin": true,
           "gridcolor": "white",
           "linecolor": "white",
           "ticks": "",
           "title": {
            "standoff": 15
           },
           "zerolinecolor": "white",
           "zerolinewidth": 2
          },
          "yaxis": {
           "automargin": true,
           "gridcolor": "white",
           "linecolor": "white",
           "ticks": "",
           "title": {
            "standoff": 15
           },
           "zerolinecolor": "white",
           "zerolinewidth": 2
          }
         }
        },
        "title": {
         "text": "KMeans Clustering with 4 Clusters (3D)"
        }
       }
      }
     },
     "metadata": {},
     "output_type": "display_data"
    }
   ],
   "source": [
    "# Apply KMeans with 4 clusters\n",
    "Clustering = KMeans(n_clusters=4, random_state=2).fit(df_scaled)\n",
    "labels = Clustering.labels_\n",
    "df['Cluster'] = labels\n",
    "df_encoded['Cluster'] = labels\n",
    "\n",
    "# Perform PCA for 2D visualization\n",
    "pca = PCA(n_components=2)\n",
    "pca_df = pca.fit_transform(df_scaled)\n",
    "\n",
    "# Transform the cluster centers using the same PCA transformation\n",
    "centers = pca.transform(Clustering.cluster_centers_)\n",
    "\n",
    "# 2D Scatter Plot using Seaborn\n",
    "# 2D Scatter Plot using Seaborn\n",
    "plt.figure(figsize=(10, 6))\n",
    "sns.scatterplot(\n",
    "    x=pca_df[:, 0],\n",
    "    y=pca_df[:, 1],\n",
    "    hue=labels,\n",
    "    palette=\"Set1\",\n",
    "    legend='full',\n",
    "    alpha=0.9\n",
    ")\n",
    "plt.scatter(centers[:, 0], centers[:, 1], c='#A613F5', s=100, marker='*', label='Centroids')\n",
    "plt.title(\"KMeans Clustering with 4 Clusters (2D)\", size=15)\n",
    "plt.xlabel(\"PCA Component 1\")\n",
    "plt.ylabel(\"PCA Component 2\")\n",
    "plt.legend()\n",
    "plt.grid(True)\n",
    "plt.show()\n",
    "\n",
    "# 3D Scatter Plot using Plotly\n",
    "# Perform PCA for 3 components for 3D plotting\n",
    "pca_3d = PCA(n_components=3)\n",
    "pca_df_3d = pca_3d.fit_transform(df_scaled)\n",
    "centers_3d = pca_3d.transform(Clustering.cluster_centers_)\n",
    "\n",
    "fig = px.scatter_3d(\n",
    "    x=pca_df_3d[:, 0],\n",
    "    y=pca_df_3d[:, 1],\n",
    "    z=pca_df_3d[:, 2],\n",
    "    color=labels,\n",
    "    title=\"KMeans Clustering with 4 Clusters (3D)\",\n",
    "    labels={'x': 'PCA Component 1', 'y': 'PCA Component 2', 'z': 'PCA Component 3'}\n",
    ")\n",
    "\n",
    "# Add cluster centroids to the 3D plot\n",
    "fig.add_scatter3d(\n",
    "    x=centers_3d[:, 0],\n",
    "    y=centers_3d[:, 1],\n",
    "    z=centers_3d[:, 2],\n",
    "    mode='markers',\n",
    "    marker=dict(size=5, color='red', symbol='x'),\n",
    "    name='Centroids'\n",
    ")\n",
    "\n",
    "fig.show()\n"
   ]
  },
  {
   "cell_type": "markdown",
   "id": "e2fa23e2-1fd7-44d9-9cbe-928e94ae2f0d",
   "metadata": {},
   "source": [
    "`Note:` **Clear visualization of the 4 identified clusters and their corresponding centroids is provided through PCA plotting.**"
   ]
  },
  {
   "cell_type": "markdown",
   "id": "2e96fcaf-73c4-4034-918c-250907c92751",
   "metadata": {},
   "source": [
    "### <span style='color:#A2D00B'>Profiling Segments</span>"
   ]
  },
  {
   "cell_type": "code",
   "execution_count": 34,
   "id": "e0bc03cf",
   "metadata": {},
   "outputs": [],
   "source": [
    "data_pivot = df_encoded.groupby('Cluster').mean().T\n",
    "data_pivot_mean = data_pivot.mean(axis=1).reset_index()\n",
    "data_pivot_mean.columns = ['Variable', 'Value']"
   ]
  },
  {
   "cell_type": "code",
   "execution_count": 35,
   "id": "f2c1ed34",
   "metadata": {},
   "outputs": [
    {
     "data": {
      "image/png": "[encoded data removed]",
      "text/plain": [
       "<Figure size 1200x900 with 4 Axes>"
      ]
     },
     "metadata": {},
     "output_type": "display_data"
    }
   ],
   "source": [
    "# Segment profile plot for the four-segment\n",
    "plt.figure(figsize = (12, 9))\n",
    "for i in range(4):\n",
    "    plt.subplot(2, 2, i+1)\n",
    "    sns.barplot(data_pivot, x = i, y = data_pivot.index, palette='viridis')\n",
    "    sns.scatterplot(data_pivot_mean, x = 'Value', y = 'Variable', color = 'green')\n",
    "    for index, row in data_pivot_mean.iterrows():\n",
    "        plt.hlines(y=row['Variable'], xmin=0, xmax=row['Value'], colors='black', alpha = 0.8)\n",
    "    plt.ylabel(\"\")\n",
    "    plt.xlabel(\"\")\n",
    "    plt.title(f\"Cluster {i}: {df_encoded['Cluster'].value_counts()[i]} ({df_encoded['Cluster'].value_counts()[i]*100/len(df_encoded):.0f}%)\")\n",
    "\n",
    "plt.suptitle(\"Segment profile plot for the four-segment solution\", fontsize = 15)\n",
    "plt.tight_layout()\n",
    "plt.show()"
   ]
  },
  {
   "cell_type": "markdown",
   "id": "7e645d01",
   "metadata": {},
   "source": [
    "This section presents a comprehensive analysis of the consumer segments based on their mean characteristics, as detailed in the provided data. The following insights capture the unique profiles of each segment:\n",
    "\n",
    "- **Segment 0** (34% of consumers) is characterized by its higher average values in salary, total salary, and make, indicating a more affluent group. They show a strong emphasis on having a wife working and higher personal and house loans. This segment values education and has relatively fewer dependents compared to others, suggesting a more financially stable and educated demographic.\n",
    "\n",
    "- **Segment 1** (28% of consumers) features a moderate average salary and total salary, with a notable increase in personal and house loans. This group has a higher number of dependents and shows less emphasis on education compared to Segment 0. Their lower \"Make\" value suggests less focus on vehicle brand or prestige.\n",
    "\n",
    "- **Segment 2** (22% of consumers) stands out with higher values in salary, total salary, and make, similar to Segment 0 but with a notable difference in marital status. This group has fewer dependents and a moderate level of personal and house loans. They also show a higher appreciation for the vehicle's make and price, indicating a preference for value and prestige.\n",
    "\n",
    "- **Segment 3** (15% of consumers) has the lowest average salary and total salary, with minimal house loans and personal loans. They also exhibit fewer dependents and a moderate level of wife working status. This segment is characterized by its relatively high value placed on marital status and personal loan, indicating a different set of priorities compared to other segments.\n",
    "\n",
    "In summary, each segment reflects distinct financial profiles and priorities, with varying emphasis on salary, dependents, loans, and vehicle make. This segmentation helps in tailoring marketing strategies to address the specific needs and preferences of each group.\n"
   ]
  },
  {
   "cell_type": "markdown",
   "id": "3a569897",
   "metadata": {},
   "source": [
    "# "
   ]
  },
  {
   "cell_type": "code",
   "execution_count": 36,
   "id": "6002773c-c007-4128-a375-c61e55d22baa",
   "metadata": {},
   "outputs": [
    {
     "data": {
      "text/html": [
       "<div>\n",
       "<style scoped>\n",
       "    .dataframe tbody tr th:only-of-type {\n",
       "        vertical-align: middle;\n",
       "    }\n",
       "\n",
       "    .dataframe tbody tr th {\n",
       "        vertical-align: top;\n",
       "    }\n",
       "\n",
       "    .dataframe thead th {\n",
       "        text-align: right;\n",
       "    }\n",
       "</style>\n",
       "<table border=\"1\" class=\"dataframe\">\n",
       "  <thead>\n",
       "    <tr style=\"text-align: right;\">\n",
       "      <th></th>\n",
       "      <th>Age</th>\n",
       "      <th>No of Dependents</th>\n",
       "      <th>Salary</th>\n",
       "      <th>Wife Salary</th>\n",
       "      <th>Total Salary</th>\n",
       "      <th>Price</th>\n",
       "      <th>Size</th>\n",
       "      <th>Profession</th>\n",
       "      <th>Marrital Status</th>\n",
       "      <th>Education</th>\n",
       "      <th>Personal loan</th>\n",
       "      <th>House Loan</th>\n",
       "      <th>Wife Working</th>\n",
       "      <th>Make</th>\n",
       "    </tr>\n",
       "    <tr>\n",
       "      <th>Cluster</th>\n",
       "      <th></th>\n",
       "      <th></th>\n",
       "      <th></th>\n",
       "      <th></th>\n",
       "      <th></th>\n",
       "      <th></th>\n",
       "      <th></th>\n",
       "      <th></th>\n",
       "      <th></th>\n",
       "      <th></th>\n",
       "      <th></th>\n",
       "      <th></th>\n",
       "      <th></th>\n",
       "      <th></th>\n",
       "    </tr>\n",
       "  </thead>\n",
       "  <tbody>\n",
       "    <tr>\n",
       "      <th>0</th>\n",
       "      <td>41.0</td>\n",
       "      <td>3.0</td>\n",
       "      <td>2200000.0</td>\n",
       "      <td>1200000.0</td>\n",
       "      <td>3100000.0</td>\n",
       "      <td>1500000.0</td>\n",
       "      <td>34</td>\n",
       "      <td>Salaried</td>\n",
       "      <td>Married</td>\n",
       "      <td>Post Graduate</td>\n",
       "      <td>No</td>\n",
       "      <td>No</td>\n",
       "      <td>Yes</td>\n",
       "      <td>SUV</td>\n",
       "    </tr>\n",
       "    <tr>\n",
       "      <th>1</th>\n",
       "      <td>36.5</td>\n",
       "      <td>3.0</td>\n",
       "      <td>1500000.0</td>\n",
       "      <td>0.0</td>\n",
       "      <td>1900000.0</td>\n",
       "      <td>1050000.0</td>\n",
       "      <td>28</td>\n",
       "      <td>Salaried</td>\n",
       "      <td>Married</td>\n",
       "      <td>Graduate</td>\n",
       "      <td>No</td>\n",
       "      <td>Yes</td>\n",
       "      <td>No</td>\n",
       "      <td>Baleno</td>\n",
       "    </tr>\n",
       "    <tr>\n",
       "      <th>2</th>\n",
       "      <td>34.0</td>\n",
       "      <td>2.0</td>\n",
       "      <td>1500000.0</td>\n",
       "      <td>0.0</td>\n",
       "      <td>1800000.0</td>\n",
       "      <td>800000.0</td>\n",
       "      <td>22</td>\n",
       "      <td>Salaried</td>\n",
       "      <td>Married</td>\n",
       "      <td>Post Graduate</td>\n",
       "      <td>No</td>\n",
       "      <td>No</td>\n",
       "      <td>No</td>\n",
       "      <td>i20</td>\n",
       "    </tr>\n",
       "    <tr>\n",
       "      <th>3</th>\n",
       "      <td>29.0</td>\n",
       "      <td>0.0</td>\n",
       "      <td>1100000.0</td>\n",
       "      <td>0.0</td>\n",
       "      <td>1300000.0</td>\n",
       "      <td>1100000.0</td>\n",
       "      <td>15</td>\n",
       "      <td>Salaried</td>\n",
       "      <td>Single</td>\n",
       "      <td>Post Graduate</td>\n",
       "      <td>No</td>\n",
       "      <td>No</td>\n",
       "      <td>No</td>\n",
       "      <td>Baleno</td>\n",
       "    </tr>\n",
       "  </tbody>\n",
       "</table>\n",
       "</div>"
      ],
      "text/plain": [
       "          Age  No of Dependents     Salary  Wife Salary  Total Salary  \\\n",
       "Cluster                                                                 \n",
       "0        41.0               3.0  2200000.0    1200000.0     3100000.0   \n",
       "1        36.5               3.0  1500000.0          0.0     1900000.0   \n",
       "2        34.0               2.0  1500000.0          0.0     1800000.0   \n",
       "3        29.0               0.0  1100000.0          0.0     1300000.0   \n",
       "\n",
       "             Price  Size Profession Marrital Status      Education  \\\n",
       "Cluster                                                              \n",
       "0        1500000.0    34   Salaried         Married  Post Graduate   \n",
       "1        1050000.0    28   Salaried         Married       Graduate   \n",
       "2         800000.0    22   Salaried         Married  Post Graduate   \n",
       "3        1100000.0    15   Salaried          Single  Post Graduate   \n",
       "\n",
       "        Personal loan House Loan Wife Working    Make  \n",
       "Cluster                                                \n",
       "0                  No         No          Yes     SUV  \n",
       "1                  No        Yes           No  Baleno  \n",
       "2                  No         No           No     i20  \n",
       "3                  No         No           No  Baleno  "
      ]
     },
     "execution_count": 36,
     "metadata": {},
     "output_type": "execute_result"
    }
   ],
   "source": [
    "# Separate numerical and categorical columns\n",
    "numerical_columns = ['Age', 'No of Dependents', 'Salary', 'Wife Salary', 'Total Salary', 'Price']\n",
    "categorical_columns = ['Profession', 'Marrital Status', 'Education', 'Personal loan', 'House Loan', 'Wife Working', 'Make']\n",
    "\n",
    "# Profiling numerical features\n",
    "numerical_profile = df.groupby('Cluster')[numerical_columns].median()\n",
    "numerical_profile['Size'] = df['Cluster'].value_counts()\n",
    "\n",
    "# Profiling categorical features\n",
    "categorical_profile = pd.DataFrame()\n",
    "for col in categorical_columns:\n",
    "    mode_series = df.groupby('Cluster')[col].agg(lambda x: x.mode()[0])\n",
    "    categorical_profile[col] = mode_series\n",
    "\n",
    "# Combine numerical and categorical profiles\n",
    "segment_profile = pd.concat([numerical_profile, categorical_profile], axis=1)\n",
    "segment_profile"
   ]
  },
  {
   "cell_type": "markdown",
   "id": "58514a8c",
   "metadata": {},
   "source": [
    "<center><h2>Describing Segements<h2></center>\n",
    "\n",
    "<div style=\"display: flex; justify-content: space-around; flex-wrap: wrap;\">\n",
    "\n",
    "<div style=\"width: 40%; margin: 12px; padding: 5px; border: 1px solid #ddd; border-radius: 5px;\">\n",
    "    <h4 style=\"color:darkred;\">Cluster 0: High-Income Families</h4>\n",
    "    <ul style=\"color:darkred;\">\n",
    "        <li><strong>Average Age:</strong> 41 years</li>\n",
    "        <li><strong>Number of Dependents:</strong> 3</li>\n",
    "        <li><strong>Average Salary:</strong> ₹2,200,000</li>\n",
    "        <li><strong>Average Wife's Salary:</strong> ₹1,200,000</li>\n",
    "        <li><strong>Total Household Salary:</strong> ₹3,100,000</li>\n",
    "        <li><strong>Average Price of Car Purchased:</strong> ₹1,500,000</li>\n",
    "        <li><strong>Segment Size:</strong> 34 customers</li>\n",
    "        <li><strong>Most Common Profession:</strong> Salaried</li>\n",
    "        <li><strong>Most Common Marital Status:</strong> Married</li>\n",
    "        <li><strong>Most Common Education Level:</strong> Post Graduate</li>\n",
    "        <li><strong>Personal Loan Status:</strong> No</li>\n",
    "        <li><strong>House Loan Status:</strong> No</li>\n",
    "        <li><strong>Wife Working Status:</strong> Yes</li>\n",
    "        <li><strong>Most Common Car Make:</strong> SUV</li>\n",
    "    </ul>\n",
    "</div>\n",
    "\n",
    "<div style=\"width: 40%; margin: 12px; padding: 5px; border: 1px solid #ddd; border-radius: 5px;\">\n",
    "    <h4 style=\"color:#40B7EB;\">Cluster 1: Family-Oriented Middle-Income</h4>\n",
    "    <ul style=\"color:#40B7EB;\">\n",
    "        <li><strong>Average Age:</strong> 36.5 years</li>\n",
    "        <li><strong>Number of Dependents:</strong> 3</li>\n",
    "        <li><strong>Average Salary:</strong> ₹1,500,000</li>\n",
    "        <li><strong>Average Wife's Salary:</strong> ₹0</li>\n",
    "        <li><strong>Total Household Salary:</strong> ₹1,900,000</li>\n",
    "        <li><strong>Average Price of Car Purchased:</strong> ₹1,050,000</li>\n",
    "        <li><strong>Segment Size:</strong> 28 customers</li>\n",
    "        <li><strong>Most Common Profession:</strong> Salaried</li>\n",
    "        <li><strong>Most Common Marital Status:</strong> Married</li>\n",
    "        <li><strong>Most Common Education Level:</strong> Graduate</li>\n",
    "        <li><strong>Personal Loan Status:</strong> No</li>\n",
    "        <li><strong>House Loan Status:</strong> Yes</li>\n",
    "        <li><strong>Wife Working Status:</strong> No</li>\n",
    "        <li><strong>Most Common Car Make:</strong> Baleno</li>\n",
    "    </ul>\n",
    "</div>\n",
    "\n",
    "<div style=\"width: 40%; margin: 12px; padding: 5px; border: 1px solid #ddd; border-radius: 5px;\">\n",
    "    <h4 style=\"color:green;\">Cluster 2: Affluent Young Professionals</h4>\n",
    "    <ul style=\"color:green;\">\n",
    "        <li><strong>Average Age:</strong> 34 years</li>\n",
    "        <li><strong>Number of Dependents:</strong> 2</li>\n",
    "        <li><strong>Average Salary:</strong> ₹1,500,000</li>\n",
    "        <li><strong>Average Wife's Salary:</strong> ₹0</li>\n",
    "        <li><strong>Total Household Salary:</strong> ₹1,800,000</li>\n",
    "        <li><strong>Average Price of Car Purchased:</strong> ₹800,000</li>\n",
    "        <li><strong>Segment Size:</strong> 22 customers</li>\n",
    "        <li><strong>Most Common Profession:</strong> Salaried</li>\n",
    "        <li><strong>Most Common Marital Status:</strong> Married</li>\n",
    "        <li><strong>Most Common Education Level:</strong> Post Graduate</li>\n",
    "        <li><strong>Personal Loan Status:</strong> No</li>\n",
    "        <li><strong>House Loan Status:</strong> No</li>\n",
    "        <li><strong>Wife Working Status:</strong> No</li>\n",
    "        <li><strong>Most Common Car Make:</strong> i20</li>\n",
    "    </ul>\n",
    "</div>\n",
    "\n",
    "<div style=\"width: 40%; margin: 12px; padding: 5px; border: 1px solid #ddd; border-radius: 5px;\">\n",
    "    <h4 style=\"color:purple;\">Cluster 3: Emerging Young Professionals</h4>\n",
    "    <ul style=\"color:purple;\">\n",
    "        <li><strong>Average Age:</strong> 29 years</li>\n",
    "        <li><strong>Number of Dependents:</strong> 0</li>\n",
    "        <li><strong>Average Salary:</strong> ₹1,100,000</li>\n",
    "        <li><strong>Average Wife's Salary:</strong> ₹0</li>\n",
    "        <li><strong>Total Household Salary:</strong> ₹1,300,000</li>\n",
    "        <li><strong>Average Price of Car Purchased:</strong> ₹1,100,000</li>\n",
    "        <li><strong>Segment Size:</strong> 15 customers</li>\n",
    "        <li><strong>Most Common Profession:</strong> Salaried</li>\n",
    "        <li><strong>Most Common Marital Status:</strong> Single</li>\n",
    "        <li><strong>Most Common Education Level:</strong> Post Graduate</li>\n",
    "        <li><strong>Personal Loan Status:</strong> No</li>\n",
    "        <li><strong>House Loan Status:</strong> No</li>\n",
    "        <li><strong>Wife Working Status:</strong> No</li>\n",
    "        <li><strong>Most Common Car Make:</strong> Baleno</li>\n",
    "    </ul>\n",
    "</div>\n",
    "\n",
    "</div>\n"
   ]
  },
  {
   "cell_type": "markdown",
   "id": "fd68d5dd-6336-45b5-8204-83e605c5837b",
   "metadata": {},
   "source": [
    "## <span style='color:#A2D00B'>Conclusion</span>\n",
    "\n",
    "The market segmentation analysis uncovers distinct customer profiles within the automotive market, each with unique characteristics and preferences:\n",
    "\n",
    "### <span style='color:darkred'>Cluster 0: High-Income Families</span>\n",
    "\n",
    "This segment consists of affluent families, typically married with an average of three dependents. The average household income is substantial, at ₹3,100,000, with significant contributions from both spouses. Customers in this segment are generally older, averaging 41 years, and possess postgraduate education. They prefer high-end vehicles such as SUVs, with an average price of ₹1,500,000. This segment typically does not carry personal or house loans and often has working spouses.\n",
    "\n",
    "### <span style='color:#40B7EB'>Cluster 1: Family-Oriented Middle-Income</span>\n",
    "\n",
    "Characterized by middle-income families, this segment features married individuals with an average of three dependents. The average total household income is ₹1,900,000, primarily supported by one income earner. Customers are typically 36.5 years old, hold a graduate degree, and prefer practical vehicles like the Baleno, priced around ₹1,050,000. Most customers in this segment have house loans but no personal loans, and their spouses are generally not working.\n",
    "\n",
    "### <span style='color:green'>Cluster 2: Affluent Young Professionals</span>\n",
    "\n",
    "This segment is comprised of younger professionals, usually married with an average of two dependents. The average household income is ₹1,800,000, with no significant contribution from a spouse's income. Customers in this segment are typically 34 years old and have postgraduate education. They prefer affordable vehicles like the i20, with an average price of ₹800,000. This segment generally does not have personal or house loans, and their spouses are generally not working.\n",
    "\n",
    "### <span style='color:purple'>Cluster 3: Emerging Young Professionals</span>\n",
    "\n",
    "This segment includes young, single professionals with no dependents. They are relatively young, averaging 29 years old, and often hold postgraduate degrees. Their total household income is around ₹1,300,000, with no contribution from a spouse's income. Customers prefer vehicles like the Baleno, with an average price of ₹1,100,000. This segment typically does not carry personal or house loans, and their spouses are not working.\n",
    "\n",
    "By understanding these segments, we can tailor marketing strategies and product offerings to meet the specific needs and preferences of each group, enhancing customer satisfaction and driving targeted sales.\n"
   ]
  }
 ],
 "metadata": {
  "kernelspec": {
   "display_name": "Python 3 (ipykernel)",
   "language": "python",
   "name": "python3"
  },
  "language_info": {
   "codemirror_mode": {
    "name": "ipython",
    "version": 3
   },
   "file_extension": ".py",
   "mimetype": "text/x-python",
   "name": "python",
   "nbconvert_exporter": "python",
   "pygments_lexer": "ipython3",
   "version": "3.8.18"
  },
  "widgets": {
   "application/vnd.jupyter.widget-state+json": {
    "state": {},
    "version_major": 2,
    "version_minor": 0
   }
  }
 },
 "nbformat": 4,
 "nbformat_minor": 5
}
