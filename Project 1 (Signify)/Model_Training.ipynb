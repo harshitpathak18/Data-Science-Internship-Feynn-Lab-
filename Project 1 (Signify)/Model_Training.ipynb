{
 "cells": [
  {
   "cell_type": "markdown",
   "id": "f6ffb6b2-7980-4053-95e1-37975dc414fe",
   "metadata": {},
   "source": [
    "# <center style=\"color:#145277\">Model Training</center>"
   ]
  },
  {
   "cell_type": "markdown",
   "id": "234acfa5-763d-4e8d-b6a2-8c825d473a05",
   "metadata": {},
   "source": [
    "### <span style=\"color:#145277\">Importing Libraries</span>"
   ]
  },
  {
   "cell_type": "code",
   "execution_count": 1,
   "id": "14c4c733-2744-4ff5-a997-616865ddb305",
   "metadata": {},
   "outputs": [],
   "source": [
    "import pandas as pd\n",
    "import numpy as np\n",
    "from sklearn.svm import SVC\n",
    "from sklearn.pipeline import Pipeline\n",
    "from sklearn.metrics import accuracy_score\n",
    "from sklearn.preprocessing import StandardScaler\n",
    "from sklearn.neighbors import KNeighborsClassifier\n",
    "from sklearn.ensemble import RandomForestClassifier\n",
    "from sklearn.model_selection import train_test_split, cross_val_score"
   ]
  },
  {
   "cell_type": "markdown",
   "id": "850770de-e2e8-4f49-8481-1862d45530a0",
   "metadata": {},
   "source": [
    "### <span style=\"color:#145277\">Loading & Exploring Dataset </span>"
   ]
  },
  {
   "cell_type": "code",
   "execution_count": 2,
   "id": "f43c6c73-7579-4a88-98a2-65bd87b0cbe2",
   "metadata": {},
   "outputs": [
    {
     "data": {
      "text/html": [
       "<div>\n",
       "<style scoped>\n",
       "    .dataframe tbody tr th:only-of-type {\n",
       "        vertical-align: middle;\n",
       "    }\n",
       "\n",
       "    .dataframe tbody tr th {\n",
       "        vertical-align: top;\n",
       "    }\n",
       "\n",
       "    .dataframe thead th {\n",
       "        text-align: right;\n",
       "    }\n",
       "</style>\n",
       "<table border=\"1\" class=\"dataframe\">\n",
       "  <thead>\n",
       "    <tr style=\"text-align: right;\">\n",
       "      <th></th>\n",
       "      <th>Distance_0</th>\n",
       "      <th>Distance_1</th>\n",
       "      <th>Distance_2</th>\n",
       "      <th>Distance_3</th>\n",
       "      <th>Distance_4</th>\n",
       "      <th>Distance_5</th>\n",
       "      <th>Distance_6</th>\n",
       "      <th>Distance_7</th>\n",
       "      <th>Distance_8</th>\n",
       "      <th>Distance_9</th>\n",
       "      <th>...</th>\n",
       "      <th>Distance_201</th>\n",
       "      <th>Distance_202</th>\n",
       "      <th>Distance_203</th>\n",
       "      <th>Distance_204</th>\n",
       "      <th>Distance_205</th>\n",
       "      <th>Distance_206</th>\n",
       "      <th>Distance_207</th>\n",
       "      <th>Distance_208</th>\n",
       "      <th>Distance_209</th>\n",
       "      <th>Sign</th>\n",
       "    </tr>\n",
       "  </thead>\n",
       "  <tbody>\n",
       "    <tr>\n",
       "      <th>0</th>\n",
       "      <td>0.105151</td>\n",
       "      <td>0.219548</td>\n",
       "      <td>0.313035</td>\n",
       "      <td>0.392161</td>\n",
       "      <td>0.329360</td>\n",
       "      <td>0.431127</td>\n",
       "      <td>0.475016</td>\n",
       "      <td>0.495393</td>\n",
       "      <td>0.327917</td>\n",
       "      <td>0.443504</td>\n",
       "      <td>...</td>\n",
       "      <td>0.184010</td>\n",
       "      <td>0.140056</td>\n",
       "      <td>0.108465</td>\n",
       "      <td>0.089051</td>\n",
       "      <td>0.142206</td>\n",
       "      <td>0.188338</td>\n",
       "      <td>0.053337</td>\n",
       "      <td>0.099607</td>\n",
       "      <td>0.046278</td>\n",
       "      <td>A</td>\n",
       "    </tr>\n",
       "    <tr>\n",
       "      <th>1</th>\n",
       "      <td>0.111101</td>\n",
       "      <td>0.252695</td>\n",
       "      <td>0.364716</td>\n",
       "      <td>0.451070</td>\n",
       "      <td>0.315518</td>\n",
       "      <td>0.388219</td>\n",
       "      <td>0.298722</td>\n",
       "      <td>0.253134</td>\n",
       "      <td>0.307570</td>\n",
       "      <td>0.383007</td>\n",
       "      <td>...</td>\n",
       "      <td>0.126662</td>\n",
       "      <td>0.062835</td>\n",
       "      <td>0.046759</td>\n",
       "      <td>0.070189</td>\n",
       "      <td>0.016089</td>\n",
       "      <td>0.047270</td>\n",
       "      <td>0.077674</td>\n",
       "      <td>0.114872</td>\n",
       "      <td>0.038531</td>\n",
       "      <td>A</td>\n",
       "    </tr>\n",
       "    <tr>\n",
       "      <th>2</th>\n",
       "      <td>0.111975</td>\n",
       "      <td>0.252069</td>\n",
       "      <td>0.366455</td>\n",
       "      <td>0.457079</td>\n",
       "      <td>0.314929</td>\n",
       "      <td>0.395829</td>\n",
       "      <td>0.301840</td>\n",
       "      <td>0.248627</td>\n",
       "      <td>0.308029</td>\n",
       "      <td>0.393448</td>\n",
       "      <td>...</td>\n",
       "      <td>0.142677</td>\n",
       "      <td>0.069461</td>\n",
       "      <td>0.045488</td>\n",
       "      <td>0.074016</td>\n",
       "      <td>0.021795</td>\n",
       "      <td>0.055818</td>\n",
       "      <td>0.083826</td>\n",
       "      <td>0.126208</td>\n",
       "      <td>0.043605</td>\n",
       "      <td>A</td>\n",
       "    </tr>\n",
       "    <tr>\n",
       "      <th>3</th>\n",
       "      <td>0.110323</td>\n",
       "      <td>0.250238</td>\n",
       "      <td>0.365462</td>\n",
       "      <td>0.456366</td>\n",
       "      <td>0.315646</td>\n",
       "      <td>0.396813</td>\n",
       "      <td>0.300209</td>\n",
       "      <td>0.246396</td>\n",
       "      <td>0.309401</td>\n",
       "      <td>0.396331</td>\n",
       "      <td>...</td>\n",
       "      <td>0.143852</td>\n",
       "      <td>0.069471</td>\n",
       "      <td>0.046139</td>\n",
       "      <td>0.073823</td>\n",
       "      <td>0.023312</td>\n",
       "      <td>0.056232</td>\n",
       "      <td>0.084579</td>\n",
       "      <td>0.126099</td>\n",
       "      <td>0.042901</td>\n",
       "      <td>A</td>\n",
       "    </tr>\n",
       "    <tr>\n",
       "      <th>4</th>\n",
       "      <td>0.091807</td>\n",
       "      <td>0.205298</td>\n",
       "      <td>0.303033</td>\n",
       "      <td>0.379785</td>\n",
       "      <td>0.270043</td>\n",
       "      <td>0.342094</td>\n",
       "      <td>0.258915</td>\n",
       "      <td>0.212950</td>\n",
       "      <td>0.267259</td>\n",
       "      <td>0.342078</td>\n",
       "      <td>...</td>\n",
       "      <td>0.131304</td>\n",
       "      <td>0.064672</td>\n",
       "      <td>0.043861</td>\n",
       "      <td>0.066647</td>\n",
       "      <td>0.018210</td>\n",
       "      <td>0.053566</td>\n",
       "      <td>0.078263</td>\n",
       "      <td>0.118124</td>\n",
       "      <td>0.040814</td>\n",
       "      <td>A</td>\n",
       "    </tr>\n",
       "  </tbody>\n",
       "</table>\n",
       "<p>5 rows × 211 columns</p>\n",
       "</div>"
      ],
      "text/plain": [
       "   Distance_0  Distance_1  Distance_2  Distance_3  Distance_4  Distance_5  \\\n",
       "0    0.105151    0.219548    0.313035    0.392161    0.329360    0.431127   \n",
       "1    0.111101    0.252695    0.364716    0.451070    0.315518    0.388219   \n",
       "2    0.111975    0.252069    0.366455    0.457079    0.314929    0.395829   \n",
       "3    0.110323    0.250238    0.365462    0.456366    0.315646    0.396813   \n",
       "4    0.091807    0.205298    0.303033    0.379785    0.270043    0.342094   \n",
       "\n",
       "   Distance_6  Distance_7  Distance_8  Distance_9  ...  Distance_201  \\\n",
       "0    0.475016    0.495393    0.327917    0.443504  ...      0.184010   \n",
       "1    0.298722    0.253134    0.307570    0.383007  ...      0.126662   \n",
       "2    0.301840    0.248627    0.308029    0.393448  ...      0.142677   \n",
       "3    0.300209    0.246396    0.309401    0.396331  ...      0.143852   \n",
       "4    0.258915    0.212950    0.267259    0.342078  ...      0.131304   \n",
       "\n",
       "   Distance_202  Distance_203  Distance_204  Distance_205  Distance_206  \\\n",
       "0      0.140056      0.108465      0.089051      0.142206      0.188338   \n",
       "1      0.062835      0.046759      0.070189      0.016089      0.047270   \n",
       "2      0.069461      0.045488      0.074016      0.021795      0.055818   \n",
       "3      0.069471      0.046139      0.073823      0.023312      0.056232   \n",
       "4      0.064672      0.043861      0.066647      0.018210      0.053566   \n",
       "\n",
       "   Distance_207  Distance_208  Distance_209  Sign  \n",
       "0      0.053337      0.099607      0.046278     A  \n",
       "1      0.077674      0.114872      0.038531     A  \n",
       "2      0.083826      0.126208      0.043605     A  \n",
       "3      0.084579      0.126099      0.042901     A  \n",
       "4      0.078263      0.118124      0.040814     A  \n",
       "\n",
       "[5 rows x 211 columns]"
      ]
     },
     "execution_count": 2,
     "metadata": {},
     "output_type": "execute_result"
    }
   ],
   "source": [
    "# loading data\n",
    "df = pd.read_csv('sign_data.csv')\n",
    "df.head()"
   ]
  },
  {
   "cell_type": "code",
   "execution_count": 3,
   "id": "dc58fc50-28d2-40f3-8b13-ca5030e74a14",
   "metadata": {},
   "outputs": [
    {
     "data": {
      "text/plain": [
       "(200, 211)"
      ]
     },
     "execution_count": 3,
     "metadata": {},
     "output_type": "execute_result"
    }
   ],
   "source": [
    "# shape of dataset\n",
    "df.shape"
   ]
  },
  {
   "cell_type": "code",
   "execution_count": 4,
   "id": "aa00f74d-f50e-4324-bb1f-1919944d32f3",
   "metadata": {},
   "outputs": [
    {
     "data": {
      "text/plain": [
       "Distance_0      0\n",
       "Distance_1      0\n",
       "Distance_2      0\n",
       "Distance_3      0\n",
       "Distance_4      0\n",
       "               ..\n",
       "Distance_206    0\n",
       "Distance_207    0\n",
       "Distance_208    0\n",
       "Distance_209    0\n",
       "Sign            0\n",
       "Length: 211, dtype: int64"
      ]
     },
     "execution_count": 4,
     "metadata": {},
     "output_type": "execute_result"
    }
   ],
   "source": [
    "# null data\n",
    "df.isnull().sum()"
   ]
  },
  {
   "cell_type": "markdown",
   "id": "9443fc30-d938-4490-88cf-f1a5b6400f76",
   "metadata": {},
   "source": [
    "### <span style=\"color:#145277\">Data Preprocessing & Model Building</span>"
   ]
  },
  {
   "cell_type": "code",
   "execution_count": 8,
   "id": "2db68b57-0c1b-4e80-8005-d9e03de349ef",
   "metadata": {},
   "outputs": [],
   "source": [
    "# mapping 'A', 'B', 'C', 'D' into 0, 1, 2, 3\n",
    "df['Sign'] = df['Sign'].map({'A':0, 'B':1, 'C':2, 'D':3})"
   ]
  },
  {
   "cell_type": "code",
   "execution_count": 9,
   "id": "753862bc-97c2-4003-89b9-31e036ce0de8",
   "metadata": {},
   "outputs": [],
   "source": [
    "# spliting dataset into training and testing\n",
    "y = df['Sign']\n",
    "X = df.drop(columns=['Sign'])\n",
    "X_train, X_test, y_train, y_test = train_test_split(X, y, test_size=0.2, random_state=42, shuffle=True)"
   ]
  },
  {
   "cell_type": "code",
   "execution_count": 10,
   "id": "244b5de9-75e2-4f34-844e-635ae33dd9d0",
   "metadata": {},
   "outputs": [],
   "source": [
    "# model pipeline\n",
    "pipelines = {\n",
    "    'svm': Pipeline([\n",
    "        ('scaler', StandardScaler()),\n",
    "        ('classifier', SVC())\n",
    "    ]),\n",
    "    'knn': Pipeline([\n",
    "        ('scaler', StandardScaler()),\n",
    "        ('classifier', KNeighborsClassifier())\n",
    "    ]),\n",
    "    'rf': Pipeline([\n",
    "        ('scaler', StandardScaler()),\n",
    "        ('classifier', RandomForestClassifier())\n",
    "    ])\n",
    "}"
   ]
  },
  {
   "cell_type": "code",
   "execution_count": 11,
   "id": "1ada70d6-381e-43ba-ab94-94bc535f3f62",
   "metadata": {},
   "outputs": [
    {
     "name": "stdout",
     "output_type": "stream",
     "text": [
      "svm CV Accuracy: 0.9938 ± 0.0125\n",
      "knn CV Accuracy: 0.9938 ± 0.0125\n",
      "rf CV Accuracy: 0.9938 ± 0.0125\n",
      "svm Test Accuracy: 1.0000\n",
      "knn Test Accuracy: 1.0000\n",
      "rf Test Accuracy: 1.0000\n"
     ]
    }
   ],
   "source": [
    "cv_scores = {}\n",
    "\n",
    "for name, pipeline in pipelines.items():\n",
    "    scores = cross_val_score(pipeline, X_train, y_train, cv=5, scoring='accuracy')\n",
    "    cv_scores[name] = scores\n",
    "    print(f\"{name} CV Accuracy: {np.mean(scores):.4f} ± {np.std(scores):.4f}\")\n",
    "\n",
    "for name, pipeline in pipelines.items():\n",
    "    pipeline.fit(X_train, y_train)\n",
    "    y_pred = pipeline.predict(X_test)\n",
    "    test_accuracy = accuracy_score(y_test, y_pred)\n",
    "    print(f\"{name} Test Accuracy: {test_accuracy:.4f}\")\n"
   ]
  },
  {
   "cell_type": "code",
   "execution_count": 12,
   "id": "87317db3-edd4-44f8-a52f-ab553cf46795",
   "metadata": {},
   "outputs": [
    {
     "name": "stdout",
     "output_type": "stream",
     "text": [
      "The best model is svm with a cross-validated accuracy of 0.9938\n"
     ]
    }
   ],
   "source": [
    "best_model_name = max(cv_scores, key=lambda name: np.mean(cv_scores[name]))\n",
    "best_model = pipelines[best_model_name]\n",
    "print(f\"The best model is {best_model_name} with a cross-validated accuracy of {np.mean(cv_scores[best_model_name]):.4f}\")"
   ]
  },
  {
   "cell_type": "markdown",
   "id": "d8ef993d-652e-4e40-8ac5-568b939299c3",
   "metadata": {},
   "source": [
    "### <span style=\"color:#145277\">Saving Model</span>"
   ]
  },
  {
   "cell_type": "code",
   "execution_count": 13,
   "id": "a6f2c0f4-9aee-4df5-8d95-c212fb58af0c",
   "metadata": {},
   "outputs": [
    {
     "name": "stdout",
     "output_type": "stream",
     "text": [
      "KNN Test Accuracy: 1.0000\n"
     ]
    }
   ],
   "source": [
    "import pickle\n",
    "\n",
    "# Create pipeline for KNN\n",
    "pipeline = Pipeline([\n",
    "    ('scaler', StandardScaler()),\n",
    "    ('classifier', SVC())\n",
    "])\n",
    "\n",
    "# Train the model\n",
    "pipeline.fit(X_train, y_train)\n",
    "\n",
    "# Save the model\n",
    "with open('sign_gesture.pkl', 'wb') as file:\n",
    "    pickle.dump(pipeline, file)\n",
    "\n",
    "# Evaluate the model\n",
    "y_pred = pipeline.predict(X_test)\n",
    "test_accuracy = accuracy_score(y_test, y_pred)\n",
    "print(f\"KNN Test Accuracy: {test_accuracy:.4f}\")"
   ]
  },
  {
   "cell_type": "code",
   "execution_count": null,
   "id": "67817580-26ce-410f-94f2-2665daff406f",
   "metadata": {},
   "outputs": [],
   "source": []
  }
 ],
 "metadata": {
  "kernelspec": {
   "display_name": "Python (Signify)",
   "language": "python",
   "name": "signify"
  },
  "language_info": {
   "codemirror_mode": {
    "name": "ipython",
    "version": 3
   },
   "file_extension": ".py",
   "mimetype": "text/x-python",
   "name": "python",
   "nbconvert_exporter": "python",
   "pygments_lexer": "ipython3",
   "version": "3.12.4"
  },
  "widgets": {
   "application/vnd.jupyter.widget-state+json": {
    "state": {},
    "version_major": 2,
    "version_minor": 0
   }
  }
 },
 "nbformat": 4,
 "nbformat_minor": 5
}
