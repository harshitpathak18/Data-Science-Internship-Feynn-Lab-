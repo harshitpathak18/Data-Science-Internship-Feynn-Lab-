{
 "cells": [
  {
   "cell_type": "markdown",
   "id": "aa33bc7f-837d-4a72-a0c5-c8fabb366632",
   "metadata": {},
   "source": [
    "# <center style=\"color:#145277\">Real Time Prediction</center>"
   ]
  },
  {
   "cell_type": "code",
   "execution_count": 7,
   "id": "e4af2a9c-fabe-47db-ba31-de4e2570e340",
   "metadata": {},
   "outputs": [],
   "source": [
    "# loading dataset\n",
    "import cv2\n",
    "import math\n",
    "import pickle\n",
    "import warnings\n",
    "import numpy as np\n",
    "import mediapipe as mp\n",
    "warnings.filterwarnings('ignore')\n",
    "\n",
    "# signs\n",
    "Sign = ['A', 'B','C','D']\n",
    "\n",
    "# Function to calculate distance\n",
    "def calculate_distance(point1, point2):\n",
    "    return math.sqrt((point1.x - point2.x)**2 + (point1.y - point2.y)**2 + (point1.z - point2.z)**2)\n",
    "\n",
    "# Load the saved KNN model\n",
    "with open('sign_gesture.pkl', 'rb') as file:\n",
    "    knn_model = pickle.load(file)\n",
    "\n",
    "# Initialize MediaPipe Hands\n",
    "mp_hands = mp.solutions.hands\n",
    "hands = mp_hands.Hands()\n",
    "mp_draw = mp.solutions.drawing_utils\n",
    "\n",
    "# Start video capture\n",
    "cap = cv2.VideoCapture(0)\n",
    "while True:\n",
    "    success, img = cap.read()\n",
    "    img = cv2.flip(img, 1)\n",
    "    img_rgb = cv2.cvtColor(img, cv2.COLOR_BGR2RGB)\n",
    "    result = hands.process(img_rgb)\n",
    "\n",
    "    if result.multi_hand_landmarks:\n",
    "        for hand_landmarks in result.multi_hand_landmarks:\n",
    "            # Calculate distances between landmarks\n",
    "            distances = []\n",
    "            for i in range(len(hand_landmarks.landmark)):\n",
    "                for j in range(i + 1, len(hand_landmarks.landmark)):\n",
    "                    point1 = hand_landmarks.landmark[i]\n",
    "                    point2 = hand_landmarks.landmark[j]\n",
    "                    distance = calculate_distance(point1, point2)\n",
    "                    distances.append(distance)\n",
    "            \n",
    "            # Reshape and scale distances to fit model input\n",
    "            distances = np.array(distances).reshape(1, -1)\n",
    "            \n",
    "            # Predict gesture using the loaded model\n",
    "            gesture = knn_model.predict(distances)\n",
    "            \n",
    "            # Display the gesture on the image\n",
    "            cv2.putText(img, f'Gesture: {Sign[gesture[0]]}', (10, 70), cv2.FONT_HERSHEY_SIMPLEX, 1, (2, 102, 47), 2, cv2.LINE_AA)\n",
    "\n",
    "    cv2.imshow(\"Sign Gesture\", img)\n",
    "    if cv2.waitKey(1) & 0xFF == ord('q'):\n",
    "        break\n",
    "\n",
    "cap.release()\n",
    "cv2.destroyAllWindows()"
   ]
  },
  {
   "cell_type": "code",
   "execution_count": null,
   "id": "2ec2f2bf-9fcb-4200-94f9-2762e676a7aa",
   "metadata": {},
   "outputs": [],
   "source": []
  }
 ],
 "metadata": {
  "kernelspec": {
   "display_name": "Python (Signify)",
   "language": "python",
   "name": "signify"
  },
  "language_info": {
   "codemirror_mode": {
    "name": "ipython",
    "version": 3
   },
   "file_extension": ".py",
   "mimetype": "text/x-python",
   "name": "python",
   "nbconvert_exporter": "python",
   "pygments_lexer": "ipython3",
   "version": "3.12.4"
  },
  "widgets": {
   "application/vnd.jupyter.widget-state+json": {
    "state": {},
    "version_major": 2,
    "version_minor": 0
   }
  }
 },
 "nbformat": 4,
 "nbformat_minor": 5
}
